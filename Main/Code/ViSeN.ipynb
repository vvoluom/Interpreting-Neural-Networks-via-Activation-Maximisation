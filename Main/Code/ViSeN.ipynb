{
 "cells": [
  {
   "cell_type": "code",
   "execution_count": 114,
   "metadata": {},
   "outputs": [],
   "source": [
    "import json\n",
    "import h5py\n",
    "import os\n",
    "import cv2\n",
    "import csv\n",
    "import ast\n",
    "import random\n",
    "import scipy.io\n",
    "import skimage.io as io\n",
    "import numpy as np\n",
    "from pycocotools.coco import COCO\n",
    "from pprint import pprint\n",
    "from collections import Counter\n",
    "import matplotlib.pyplot as plt\n",
    "import matplotlib.patches as patches"
   ]
  },
  {
   "cell_type": "code",
   "execution_count": 115,
   "metadata": {},
   "outputs": [],
   "source": [
    "with open('Visen/MSCOCO_originalterm_train.csv', 'r') as f:\n",
    "    reader = csv.reader(f)\n",
    "    your_list = list(reader)\n",
    "f.close()"
   ]
  },
  {
   "cell_type": "code",
   "execution_count": 116,
   "metadata": {},
   "outputs": [],
   "source": [
    "#captionId\n",
    "#imageId\n",
    "#preposition\n",
    "#trajector \n",
    "#landmark \n",
    "#trajectoryCategoryId \n",
    "#landmarkCategoryId \n",
    "#trajectorAnnotationId \n",
    "#landmarkAnnotationId \n",
    "#trajectorBbox (x-y-width-height) \n",
    "#landmarkBbox (x-y-width-height) \n",
    "#imageWidth-imageHeight"
   ]
  },
  {
   "cell_type": "code",
   "execution_count": 118,
   "metadata": {},
   "outputs": [
    {
     "name": "stdout",
     "output_type": "stream",
     "text": [
      "loading annotations into memory...\n",
      "Done (t=11.36s)\n",
      "creating index...\n",
      "index created!\n"
     ]
    }
   ],
   "source": [
    "annFile  = \"MSCOCO/instances_train2014.json\"\n",
    "# initialize COCO api for instance annotations\n",
    "coco=COCO(annFile)"
   ]
  },
  {
   "cell_type": "code",
   "execution_count": 112,
   "metadata": {},
   "outputs": [],
   "source": [
    "def get_image_new(img):\n",
    "    DATADIR = \"MSCOCO/Images/train/train2014/\"+str(img[0].get('file_name'))\n",
    "    #Get Image from category\n",
    "    img_array = cv2.imread(DATADIR, cv2.IMREAD_COLOR)\n",
    "    return img_array"
   ]
  },
  {
   "cell_type": "code",
   "execution_count": 113,
   "metadata": {},
   "outputs": [
    {
     "name": "stdout",
     "output_type": "stream",
     "text": [
      "MSCOCO/Images/train/train2014/COCO_train2014_000000000030.jpg\n",
      "(428, 640, 3)\n"
     ]
    }
   ],
   "source": [
    "imgIds = coco.getImgIds(imgIds = [30])\n",
    "img = coco.loadImgs(imgIds)\n",
    "\n",
    "image = get_image_new(img)\n",
    "\n",
    "cv2.imshow('image',image)\n",
    "cv2.waitKey(0)\n",
    "cv2.destroyAllWindows()"
   ]
  },
  {
   "cell_type": "code",
   "execution_count": 181,
   "metadata": {},
   "outputs": [
    {
     "name": "stdout",
     "output_type": "stream",
     "text": [
      "696557\t30\twith\tvase\tflower\t86\t64\t1155486\t291613\t237.56-155.81-166.4-195.25\t204.86-31.02-254.88-324.12\t640-428\n"
     ]
    }
   ],
   "source": [
    "#def stastics_data(your_list):\n",
    "for i in range(1):\n",
    "    print(your_list[i][0])"
   ]
  },
  {
   "cell_type": "code",
   "execution_count": 177,
   "metadata": {},
   "outputs": [
    {
     "name": "stdout",
     "output_type": "stream",
     "text": [
      "['6', '9', '6', '5', '5', '7', '\\t', '3', '0', '\\t', 'w', 'i', 't', 'h', '\\t', 'v', 'a', 's', 'e', '\\t', 'f', 'l', 'o', 'w', 'e', 'r', '\\t', '8', '6', '\\t', '6', '4', '\\t', '1', '1', '5', '5', '4', '8', '6', '\\t', '2', '9', '1', '6', '1', '3', '\\t', '2', '3', '7', '.', '5', '6', '-', '1', '5', '5', '.', '8', '1', '-', '1', '6', '6', '.', '4', '-', '1', '9', '5', '.', '2', '5', '\\t', '2', '0', '4', '.', '8', '6', '-', '3', '1', '.', '0', '2', '-', '2', '5', '4', '.', '8', '8', '-', '3', '2', '4', '.', '1', '2', '\\t', '6', '4', '0', '-', '4', '2', '8']\n"
     ]
    }
   ],
   "source": [
    "x = your_list[0][0].strip()\n",
    "#x = ast.literal_eval(x)\n",
    "x = [n for n in x]\n",
    "print(x)"
   ]
  },
  {
   "cell_type": "code",
   "execution_count": 179,
   "metadata": {},
   "outputs": [
    {
     "name": "stdout",
     "output_type": "stream",
     "text": [
      "New Thing\n",
      "New Thing\n",
      "New Thing\n",
      "New Thing\n",
      "New Thing\n",
      "New Thing\n",
      "New Thing\n",
      "New Thing\n",
      "New Thing\n",
      "New Thing\n",
      "New Thing\n"
     ]
    }
   ],
   "source": [
    "#captionId\n",
    "#imageId\n",
    "#preposition\n",
    "#trajector \n",
    "#landmark \n",
    "#trajectoryCategoryId \n",
    "#landmarkCategoryId \n",
    "#trajectorAnnotationId \n",
    "#landmarkAnnotationId \n",
    "#trajectorBbox (x-y-width-height) \n",
    "#landmarkBbox (x-y-width-height) \n",
    "#imageWidth-imageHeight\n",
    "\n",
    "def data_to_file(your_list):\n",
    "    \n",
    "    for j in range(20):\n",
    "        #Get the object information\n",
    "        x = your_list[j][0].strip()\n",
    "        x = [n for n in x]\n",
    "        count = 0\n",
    "        for i in x:\n",
    "            if i == '\\t':\n",
    "                count += 1\n",
    "            elif count == 2:\n",
    "                preposition += i\n",
    "            elif count == 9 :\n",
    "                bb1 += i\n",
    "            elif count == 10:\n",
    "                bb2 += i\n",
    "            elif count == 11:\n",
    "                WH  += i\n",
    "                "
   ]
  },
  {
   "cell_type": "code",
   "execution_count": 184,
   "metadata": {},
   "outputs": [],
   "source": [
    "for j in range(0):\n",
    "    preposition = \"\"\n",
    "    bb1 = \"\"\n",
    "    bb2 = \"\"\n",
    "    WH = \"\"\n",
    "    #Get the object information\n",
    "    x = your_list[j][0].strip()\n",
    "    x = [n for n in x]\n",
    "    count = 0\n",
    "    for i in x:\n",
    "        if i == '\\t':\n",
    "            count += 1\n",
    "        elif count == 2:\n",
    "            preposition += i\n",
    "        elif count == 9 :\n",
    "            bb1 += i\n",
    "        elif count == 10:\n",
    "            bb2 += i\n",
    "        elif count == 11:\n",
    "            WH  += i\n",
    "                "
   ]
  },
  {
   "cell_type": "code",
   "execution_count": 185,
   "metadata": {},
   "outputs": [
    {
     "name": "stdout",
     "output_type": "stream",
     "text": [
      "on\n",
      "364.68-94.32-40.9-169.45\n",
      "254.46-137.21-227.48-173.53\n",
      "640-419\n"
     ]
    }
   ],
   "source": [
    "print(preposition)\n",
    "print(bb1)\n",
    "print(bb2)\n",
    "print(WH)"
   ]
  },
  {
   "cell_type": "code",
   "execution_count": 190,
   "metadata": {},
   "outputs": [],
   "source": [
    "def bounding_box_extraction(bb1):\n",
    "    count = 0\n",
    "    x = \"\"\n",
    "    y = \"\"\n",
    "    w = \"\"\n",
    "    h = \"\"\n",
    "    for k in bb1:\n",
    "        if k == \"-\":\n",
    "            count += 1\n",
    "        elif count == 0:\n",
    "            x += k\n",
    "        elif count == 1:\n",
    "            y += k\n",
    "        elif count == 2:\n",
    "            w += k\n",
    "        elif count == 3:\n",
    "            h+= k\n",
    "    return x,y,w,h"
   ]
  },
  {
   "cell_type": "code",
   "execution_count": 191,
   "metadata": {},
   "outputs": [
    {
     "name": "stdout",
     "output_type": "stream",
     "text": [
      "364.68-94.32-40.9-169.45\n",
      "364.68 94.32 40.9 169.45\n"
     ]
    }
   ],
   "source": [
    "print(bb1)\n",
    "print(x,y,w,h)"
   ]
  },
  {
   "cell_type": "code",
   "execution_count": null,
   "metadata": {},
   "outputs": [],
   "source": []
  }
 ],
 "metadata": {
  "kernelspec": {
   "display_name": "Python 3",
   "language": "python",
   "name": "python3"
  },
  "language_info": {
   "codemirror_mode": {
    "name": "ipython",
    "version": 3
   },
   "file_extension": ".py",
   "mimetype": "text/x-python",
   "name": "python",
   "nbconvert_exporter": "python",
   "pygments_lexer": "ipython3",
   "version": "3.6.7"
  }
 },
 "nbformat": 4,
 "nbformat_minor": 2
}
