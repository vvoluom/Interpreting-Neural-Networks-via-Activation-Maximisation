{
 "cells": [
  {
   "cell_type": "code",
   "execution_count": 1,
   "metadata": {},
   "outputs": [],
   "source": [
    "import sys\n",
    "import pickle\n",
    "import copy\n",
    "import json\n",
    "import csv\n",
    "import ast\n",
    "import random\n",
    "import numpy as np\n",
    "import matplotlib.pyplot as plt\n",
    "from collections import Counter"
   ]
  },
  {
   "cell_type": "code",
   "execution_count": 2,
   "metadata": {},
   "outputs": [],
   "source": [
    "with open('SpatialVoc2k/french_2_3.json') as f:\n",
    "    data = json.load(f)\n",
    "f.close()"
   ]
  },
  {
   "cell_type": "code",
   "execution_count": 3,
   "metadata": {},
   "outputs": [
    {
     "data": {
      "text/plain": [
       "1554"
      ]
     },
     "execution_count": 3,
     "metadata": {},
     "output_type": "execute_result"
    }
   ],
   "source": [
    "len(data)"
   ]
  },
  {
   "cell_type": "code",
   "execution_count": 4,
   "metadata": {},
   "outputs": [],
   "source": [
    "img_name = list(data.keys())[0]\n",
    "object_number = 'object_'+str(0)\n",
    "name_number = 'name_' + str(0)\n",
    "vars()[name_number] = data.get(img_name).get('objects').get(object_number).get('name')"
   ]
  },
  {
   "cell_type": "code",
   "execution_count": 5,
   "metadata": {},
   "outputs": [
    {
     "name": "stdout",
     "output_type": "stream",
     "text": [
      "la_personne le_train\n"
     ]
    }
   ],
   "source": [
    "subject = data.get(img_name).get('relations')[1].get('object_0')\n",
    "trajectory = data.get(img_name).get('relations')[1].get('object_1')\n",
    "print(subject,trajectory)"
   ]
  },
  {
   "cell_type": "code",
   "execution_count": 3,
   "metadata": {},
   "outputs": [],
   "source": [
    "all_labels = []\n",
    "Solo = False\n",
    "for x in range(len(data)):\n",
    "    img_name = list(data.keys())[x]\n",
    "    width = data.get(img_name).get('width')\n",
    "    height = data.get(img_name).get('height')\n",
    "    \n",
    "    for i in range(len(data.get(img_name).get('objects'))):\n",
    "        object_number = 'object_'+str(i)\n",
    "        test = data.get(img_name).get('objects').get(object_number)\n",
    "        name = data.get(img_name).get('objects').get(object_number).get('name')\n",
    "        x = data.get(img_name).get('objects').get(object_number).get('xmin')\n",
    "        y = data.get(img_name).get('objects').get(object_number).get('ymin')\n",
    "        w = data.get(img_name).get('objects').get(object_number).get('xmax') - x \n",
    "        h = data.get(img_name).get('objects').get(object_number).get('ymax') - y \n",
    "        vars()[name] = [x,y,w,h]\n",
    "        #print(name)\n",
    "\n",
    "    for i in range(len(data.get(img_name).get('relations'))):\n",
    "        subject = data.get(img_name).get('relations')[i].get('object_0')\n",
    "        objective = data.get(img_name).get('relations')[i].get('object_1')\n",
    "        labels = data.get(img_name).get('relations')[i].get('all')\n",
    "        for j in range(len(labels)):                            \n",
    "            if labels[j] == 'au_dessous_de' or labels[j] == 'a_cote' or labels[j] == 'en_travers_de' or labels[j] == 'pres' :\n",
    "                Solo = True\n",
    "            else:\n",
    "                all_labels.append(labels[j])\n",
    "        \n",
    "        if Solo == False:\n",
    "            #if objective[len(objective)-1:].isdigit() == True:\n",
    "            #    objective = objective[:-2]\n",
    "            #if subject[len(subject)-1:].isdigit() == True:\n",
    "            #    subject = subject[:-2]\n",
    "                \n",
    "            with open(\"SpatialVoc2k/SpatialVoc2k_Edited.csv\",\"a\",newline=\"\") as f1: \n",
    "                cw = csv.writer(f1)\n",
    "                cw.writerow([labels]+[width,height]+[vars()[subject]]+[vars()[objective]]+[subject]+[objective])\n",
    "            f1.close()\n",
    "        else:\n",
    "            Solo = False"
   ]
  },
  {
   "cell_type": "code",
   "execution_count": 4,
   "metadata": {},
   "outputs": [
    {
     "name": "stdout",
     "output_type": "stream",
     "text": [
      "Counter({'pres_de': 2856, 'a_cote_de': 1773, 'devant': 1372, 'derriere': 1326, 'au_niveau_de': 1155, 'contre': 730, 'sous': 533, 'loin_de': 476, 'sur': 447, 'en_face_de': 333, 'au_dessus_de': 148, 'le_long_de': 85, 'dans': 74, \"a_l'exterieur_de\": 51, 'par_dela': 47, 'autour_de': 42, 'aucun': 28})\n"
     ]
    }
   ],
   "source": [
    "spatials = Counter(all_labels)\n",
    "print(spatials)"
   ]
  },
  {
   "cell_type": "code",
   "execution_count": 9,
   "metadata": {},
   "outputs": [
    {
     "name": "stdout",
     "output_type": "stream",
     "text": [
      "la_plante\n"
     ]
    }
   ],
   "source": [
    "if objective[len(objective)-1:].isdigit() == True:\n",
    "    objective = objective[:-2]\n",
    "\n",
    "print(objective)"
   ]
  },
  {
   "cell_type": "code",
   "execution_count": 5,
   "metadata": {},
   "outputs": [],
   "source": [
    "with open(\"SpatialVoc2k/SpatialVoc2k_Edited.csv\", 'r') as f:\n",
    "    reader = csv.reader(f)\n",
    "    your_list = list(reader)\n",
    "f.close()"
   ]
  },
  {
   "cell_type": "code",
   "execution_count": 6,
   "metadata": {},
   "outputs": [],
   "source": [
    "spatial = []\n",
    "single = 0\n",
    "multi = 0\n",
    "multi_spatial = []\n",
    "for i in range(len(your_list)):\n",
    "    x = ast.literal_eval(your_list[i][0])\n",
    "    x = [n.strip() for n in x]\n",
    "    if len(x) > 1 :\n",
    "        multi_spatial.append(x)\n",
    "        multi += 1\n",
    "    for j in range(len(x)):\n",
    "        single += 1 \n",
    "        spatial.append(x[j])\n",
    "    "
   ]
  },
  {
   "cell_type": "code",
   "execution_count": 7,
   "metadata": {},
   "outputs": [
    {
     "name": "stdout",
     "output_type": "stream",
     "text": [
      "Counter({'pres_de': 2854, 'a_cote_de': 1771, 'devant': 1372, 'derriere': 1325, 'au_niveau_de': 1152, 'contre': 730, 'sous': 533, 'loin_de': 476, 'sur': 447, 'en_face_de': 333, 'au_dessus_de': 148, 'le_long_de': 85, 'dans': 74, \"a_l'exterieur_de\": 51, 'par_dela': 47, 'autour_de': 42, 'aucun': 28})\n"
     ]
    }
   ],
   "source": [
    "spatials = Counter(spatial)\n",
    "print(spatials)"
   ]
  },
  {
   "cell_type": "code",
   "execution_count": 8,
   "metadata": {},
   "outputs": [
    {
     "data": {
      "image/png": "[encoded data removed]",
      "text/plain": [
       "<Figure size 432x288 with 1 Axes>"
      ]
     },
     "metadata": {
      "needs_background": "light"
     },
     "output_type": "display_data"
    }
   ],
   "source": [
    "plt.hist(spatial,bins = 60)\n",
    "plt.xlabel('Labels')\n",
    "plt.xticks(rotation=90)\n",
    "plt.ylabel('Amount');\n",
    "plt.savefig('Statistics/AllLabelsSpatialVoc2k.png')"
   ]
  },
  {
   "cell_type": "code",
   "execution_count": 88,
   "metadata": {},
   "outputs": [
    {
     "name": "stdout",
     "output_type": "stream",
     "text": [
      "Counter({\"['a_cote_de', 'au_niveau_de', 'pres_de']\": 638, \"['derriere', 'pres_de']\": 366, \"['devant', 'pres_de']\": 338, \"['sur', 'contre']\": 188, \"['a_cote_de', 'pres_de']\": 185, \"['sous', 'contre']\": 132, \"['devant', 'loin_de']\": 129, \"['derriere', 'loin_de']\": 104, \"['a_cote_de', 'devant', 'pres_de']\": 96, \"['a_cote_de', 'derriere', 'pres_de']\": 86, \"['derriere', 'a_cote_de', 'pres_de']\": 78, \"['devant', 'a_cote_de', 'pres_de']\": 71, \"['en_face_de', 'pres_de']\": 61, \"['loin_de', 'devant']\": 57, \"['pres_de', 'devant']\": 55, \"['loin_de', 'derriere']\": 55, \"['contre', 'a_cote_de', 'au_niveau_de']\": 55, \"['pres_de', 'au_niveau_de']\": 48, \"['a_cote_de', 'au_niveau_de']\": 44, \"['au_niveau_de', 'pres_de']\": 42, \"['pres_de', 'derriere']\": 39, \"['a_cote_de', 'au_niveau_de', 'contre']\": 39, \"['pres_de', 'a_cote_de']\": 38, \"['derriere', 'contre']\": 37, \"['au_dessus_de', 'pres_de']\": 35, \"['en_face_de', 'devant', 'pres_de']\": 33, \"['devant', 'contre']\": 29, \"['sous', 'pres_de']\": 25, \"['pres_de', 'a_cote_de', 'au_niveau_de']\": 22, \"['en_face_de', 'derriere', 'pres_de']\": 19, \"['devant', 'derriere', 'pres_de']\": 18, \"['a_cote_de', 'derriere']\": 17, \"['en_face_de', 'devant']\": 17, \"['contre', 'a_cote_de']\": 16, \"['contre', 'pres_de']\": 16, \"['sous', 'contre', 'derriere']\": 15, \"['en_face_de', 'a_cote_de', 'au_niveau_de', 'pres_de']\": 15, \"['en_face_de', 'au_niveau_de', 'pres_de']\": 15, \"['sur', 'contre', 'dans']\": 14, \"['sur', 'dans']\": 14, \"['devant', 'derriere']\": 13, \"['sous', 'a_cote_de', 'pres_de']\": 13, \"['a_cote_de', 'au_niveau_de', 'le_long_de', 'pres_de']\": 13, \"['en_face_de', 'a_cote_de', 'pres_de']\": 13, \"['derriere', 'devant', 'pres_de']\": 13, \"['devant', 'au_niveau_de', 'pres_de']\": 13, \"['a_cote_de', 'contre']\": 13, \"['au_niveau_de', 'a_cote_de']\": 12, \"['devant', 'a_cote_de']\": 12, \"['au_niveau_de', 'a_cote_de', 'pres_de']\": 12, \"['contre', 'devant']\": 12, \"['devant', 'a_cote_de', 'au_niveau_de', 'pres_de']\": 12, \"['devant', 'en_face_de', 'pres_de']\": 12, \"['a_cote_de', 'devant']\": 11, \"['en_face_de', 'derriere']\": 11, \"['devant', 'sous']\": 11, \"['loin_de', 'au_niveau_de']\": 11, \"['derriere', 'au_niveau_de', 'pres_de']\": 11, \"['sur', 'contre', 'devant']\": 10, \"['derriere', 'contre', 'sous']\": 10, \"['en_face_de', 'au_niveau_de']\": 10, \"['a_cote_de', 'au_niveau_de', 'contre', 'pres_de']\": 10, \"['a_cote_de', 'devant', 'le_long_de', 'pres_de']\": 9, \"['contre', 'sur']\": 9, \"['au_dessus_de', 'derriere']\": 9, \"['a_cote_de', 'au_niveau_de', 'devant', 'pres_de']\": 9, \"['pres_de', 'a_cote_de', 'derriere']\": 8, \"['derriere', 'au_dessus_de', 'pres_de']\": 8, \"['sur', 'contre', 'pres_de']\": 8, \"['loin_de', 'derriere', 'par_dela']\": 8, \"['pres_de', 'en_face_de']\": 8, \"['devant', 'pres_de', 'sous']\": 8, \"['au_dessus_de', 'a_cote_de', 'pres_de']\": 8, \"['a_cote_de', 'derriere', 'le_long_de', 'pres_de']\": 8, \"['devant', 'derriere', 'loin_de']\": 7, \"['derriere', 'au_dessus_de']\": 7, \"['derriere', 'a_cote_de', 'le_long_de', 'pres_de']\": 7, \"['derriere', 'a_cote_de', 'au_niveau_de', 'pres_de']\": 7, \"['derriere', 'par_dela']\": 7, \"['devant', 'contre', 'sur']\": 7, \"['pres_de', 'a_cote_de', 'devant']\": 7, \"['a_cote_de', 'en_face_de', 'pres_de']\": 7, \"['devant', 'a_cote_de', 'le_long_de', 'pres_de']\": 7, \"['derriere', 'en_face_de']\": 6, \"['a_cote_de', 'pres_de', 'sous']\": 6, \"['au_dessus_de', 'derriere', 'pres_de']\": 6, \"['a_cote_de', 'le_long_de', 'pres_de']\": 6, \"['pres_de', 'sous']\": 6, \"['devant', 'en_face_de']\": 6, \"['devant', 'au_dessus_de', 'pres_de']\": 6, \"['derriere', 'pres_de', 'sous']\": 6, '[\"a_l\\'exterieur_de\", \\'a_cote_de\\', \\'pres_de\\']': 6, \"['derriere', 'devant', 'loin_de']\": 5, \"['au_niveau_de', 'loin_de']\": 5, \"['a_cote_de', 'au_dessus_de', 'pres_de']\": 5, \"['loin_de', 'en_face_de']\": 5, \"['dans', 'sur']\": 5, \"['derriere', 'devant']\": 5, \"['au_dessus_de', 'devant']\": 5, \"['a_cote_de', 'au_niveau_de', 'derriere', 'pres_de']\": 5, \"['a_cote_de', 'au_niveau_de', 'en_face_de', 'pres_de']\": 5, \"['derriere', 'sous']\": 4, \"['loin_de', 'derriere', 'devant']\": 4, \"['derriere', 'contre', 'pres_de']\": 4, \"['devant', 'par_dela']\": 4, \"['derriere', 'loin_de', 'par_dela']\": 4, \"['contre', 'derriere']\": 4, \"['derriere', 'a_cote_de']\": 4, \"['en_face_de', 'loin_de']\": 4, '[\\'derriere\\', \"a_l\\'exterieur_de\"]': 4, \"['au_dessus_de', 'loin_de']\": 4, '[\\'devant\\', \"a_l\\'exterieur_de\", \\'loin_de\\']': 3, \"['en_face_de', 'au_niveau_de', 'contre']\": 3, \"['derriere', 'par_dela', 'pres_de']\": 3, \"['contre', 'derriere', 'pres_de']\": 3, \"['pres_de', 'contre']\": 3, \"['derriere', 'a_cote_de', 'devant', 'pres_de']\": 3, \"['devant', 'le_long_de']\": 3, \"['devant', 'a_cote_de', 'contre']\": 3, \"['devant', 'pres_de', 'sur']\": 3, \"['devant', 'au_dessus_de']\": 3, \"['derriere', 'en_face_de', 'pres_de']\": 3, \"['sous', 'autour_de']\": 3, \"['sous', 'devant']\": 3, \"['a_cote_de', 'contre', 'derriere']\": 3, \"['pres_de', 'derriere', 'devant']\": 3, \"['pres_de', 'a_cote_de', 'en_face_de']\": 3, \"['le_long_de', 'a_cote_de', 'pres_de']\": 3, \"['devant', 'a_cote_de', 'au_niveau_de']\": 3, \"['loin_de', 'par_dela']\": 3, \"['au_dessus_de', 'derriere', 'loin_de']\": 3, \"['le_long_de', 'a_cote_de']\": 3, '[\"a_l\\'exterieur_de\", \\'devant\\', \\'loin_de\\']': 3, '[\\'contre\\', \\'a_cote_de\\', \"a_l\\'exterieur_de\"]': 2, \"['dans', 'contre', 'sur']\": 2, \"['derriere', 'contre', 'pres_de', 'sous']\": 2, \"['contre', 'a_cote_de', 'au_niveau_de', 'derriere', 'pres_de']\": 2, \"['au_niveau_de', 'en_face_de', 'pres_de']\": 2, \"['en_face_de', 'derriere', 'devant', 'pres_de']\": 2, \"['devant', 'a_cote_de', 'pres_de', 'sous']\": 2, \"['derriere', 'au_dessus_de', 'contre']\": 2, \"['contre', 'en_face_de']\": 2, \"['sous', 'autour_de', 'contre']\": 2, \"['devant', 'par_dela', 'pres_de']\": 2, \"['en_face_de', 'a_cote_de', 'au_niveau_de']\": 2, \"['contre', 'a_cote_de', 'le_long_de']\": 2, \"['derriere', 'le_long_de']\": 2, \"['en_face_de', 'contre', 'devant']\": 2, \"['devant', 'le_long_de', 'pres_de']\": 2, \"['derriere', 'le_long_de', 'pres_de']\": 2, \"['a_cote_de', 'contre', 'pres_de']\": 2, \"['contre', 'pres_de', 'sur']\": 2, \"['devant', 'au_niveau_de']\": 2, \"['a_cote_de', 'a_cote_de', 'au_niveau_de', 'pres_de']\": 2, \"['au_niveau_de', 'au_dessus_de']\": 2, '[\\'a_cote_de\\', \"a_l\\'exterieur_de\", \\'au_niveau_de\\', \\'pres_de\\']': 2, \"['en_face_de', 'contre']\": 2, \"['pres_de', 'devant', 'sous']\": 2, '[\\'devant\\', \"a_l\\'exterieur_de\", \\'pres_de\\']': 2, \"['pres_de', 'a_cote_de', 'au_dessus_de']\": 2, \"['sous', 'a_cote_de', 'au_niveau_de', 'pres_de']\": 2, '[\"a_l\\'exterieur_de\", \\'devant\\', \\'pres_de\\']': 2, '[\"a_l\\'exterieur_de\", \\'derriere\\', \\'pres_de\\']': 2, \"['au_dessus_de', 'a_cote_de']\": 2, \"['au_dessus_de', 'a_cote_de', 'derriere']\": 2, '[\"a_l\\'exterieur_de\", \\'derriere\\', \\'devant\\', \\'loin_de\\']': 2, \"['en_face_de', 'a_cote_de']\": 2, \"['sous', 'contre', 'pres_de']\": 2, \"['au_dessus_de', 'devant', 'pres_de']\": 2, \"['derriere', 'a_cote_de', 'contre']\": 2, \"['sous', 'loin_de']\": 2, \"['sous', 'derriere', 'loin_de']\": 2, \"['devant', 'a_cote_de', 'contre', 'pres_de']\": 2, \"['a_cote_de', 'contre', 'sur']\": 2, \"['a_cote_de', 'au_niveau_de', 'loin_de']\": 2, \"['sous', 'devant', 'pres_de']\": 2, \"['en_face_de', 'devant', 'loin_de']\": 2, \"['en_face_de', 'derriere', 'loin_de']\": 2, \"['contre', 'devant', 'pres_de']\": 2, \"['a_cote_de', 'au_dessus_de']\": 2, \"['sur', 'au_dessus_de']\": 2, '[\"a_l\\'exterieur_de\", \\'a_cote_de\\', \\'derriere\\', \\'pres_de\\']': 2, \"['a_cote_de', 'au_niveau_de', 'derriere']\": 2, \"['sous', 'derriere']\": 2, \"['pres_de', 'contre', 'derriere']\": 1, '[\\'derriere\\', \"a_l\\'exterieur_de\", \\'pres_de\\']': 1, \"['au_niveau_de', 'devant']\": 1, \"['sous', 'en_face_de', 'pres_de']\": 1, \"['sous', 'contre', 'devant']\": 1, \"['sur', 'pres_de']\": 1, \"['contre', 'a_cote_de', 'au_niveau_de', 'devant', 'le_long_de', 'pres_de']\": 1, \"['devant', 'a_cote_de', 'loin_de']\": 1, \"['au_dessus_de', 'au_niveau_de', 'pres_de']\": 1, \"['devant', 'a_cote_de', 'derriere', 'pres_de']\": 1, \"['au_dessous_de', 'au_niveau_de', 'pres_de']\": 1, \"['au_dessus_de', 'a_cote_de', 'au_niveau_de']\": 1, \"['derriere', 'au_niveau_de']\": 1, \"['autour_de', 'contre', 'pres_de']\": 1, \"['au_dessus_de', 'a_cote_de', 'au_niveau_de', 'pres_de']\": 1, '[\"a_l\\'exterieur_de\", \\'derriere\\', \\'par_dela\\']': 1, '[\"a_l\\'exterieur_de\", \\'a_cote_de\\', \\'devant\\', \\'pres_de\\']': 1, '[\"a_l\\'exterieur_de\", \\'devant\\']': 1, \"['contre', 'a_cote_de', 'derriere', 'le_long_de', 'pres_de']\": 1, \"['en_face_de', 'derriere', 'devant']\": 1, \"['aucun', 'aucun']\": 1, \"['a_cote_de', 'au_niveau_de', 'dans', 'pres_de']\": 1, '[\"a_l\\'exterieur_de\", \\'a_cote_de\\', \\'au_niveau_de\\', \\'pres_de\\']': 1, \"['autour_de', 'contre', 'derriere', 'sous']\": 1, \"['pres_de', 'au_niveau_de', 'derriere']\": 1, \"['le_long_de', 'a_cote_de', 'au_niveau_de', 'derriere', 'pres_de']\": 1, \"['pres_de', 'contre', 'sous']\": 1, \"['en_face_de', 'a_cote_de', 'contre']\": 1, \"['a_cote_de', 'contre', 'devant', 'en_face_de', 'pres_de']\": 1, \"['le_long_de', 'a_cote_de', 'derriere']\": 1, \"['contre', 'au_niveau_de', 'devant']\": 1, \"['en_face_de', 'au_dessus_de', 'au_niveau_de']\": 1, \"['derriere', 'a_cote_de', 'au_dessus_de', 'pres_de']\": 1, \"['derriere', 'au_dessus_de', 'loin_de']\": 1, \"['en_face_de', 'a_cote_de', 'devant', 'pres_de']\": 1, \"['par_dela', 'derriere', 'devant']\": 1, \"['contre', 'au_niveau_de', 'en_face_de']\": 1, \"['par_dela', 'en_face_de', 'loin_de']\": 1, \"['devant', 'a_cote_de', 'derriere']\": 1, \"['pres_de', 'a_cote_de', 'contre']\": 1, \"['pres_de', 'a_cote_de', 'au_niveau_de', 'pres_de']\": 1, \"['sur', 'derriere']\": 1, \"['sur', 'devant', 'pres_de']\": 1, \"['a_cote_de', 'au_dessus_de', 'contre']\": 1, \"['devant', 'derriere', 'en_face_de', 'pres_de']\": 1, \"['contre', 'autour_de']\": 1, \"['contre', 'sous']\": 1, \"['dans', 'au_dessus_de', 'contre', 'sur']\": 1, \"['pres_de', 'derriere', 'en_face_de']\": 1, \"['en_face_de', 'a_cote_de', 'au_niveau_de', 'contre']\": 1, '[\\'au_niveau_de\\', \"a_l\\'exterieur_de\"]': 1, \"['contre', 'a_cote_de', 'devant', 'pres_de']\": 1, \"['contre', 'a_cote_de', 'derriere', 'pres_de']\": 1, \"['contre', 'a_cote_de', 'au_niveau_de', 'pres_de']\": 1, \"['en_face_de', 'par_dela', 'pres_de']\": 1, \"['a_cote_de', 'au_niveau_de', 'le_long_de']\": 1, \"['derriere', 'au_dessus_de', 'par_dela']\": 1, \"['sur', 'le_long_de']\": 1, \"['a_cote_de', 'au_niveau_de', 'devant']\": 1, \"['en_face_de', 'par_dela']\": 1, \"['devant', 'contre', 'pres_de']\": 1, \"['en_face_de', 'pres_de', 'sous']\": 1, \"['en_face_de', 'au_dessus_de', 'derriere', 'devant', 'pres_de']\": 1, \"['contre', 'a_cote_de', 'pres_de']\": 1, \"['devant', 'a_cote_de', 'au_dessus_de']\": 1, \"['loin_de', 'devant', 'par_dela']\": 1, \"['pres_de', 'au_dessus_de']\": 1, \"['par_dela', 'loin_de']\": 1, \"['loin_de', 'a_cote_de']\": 1, \"['sur', 'au_dessus_de', 'pres_de']\": 1, \"['derriere', 'devant', 'en_face_de', 'pres_de']\": 1, \"['a_cote_de', 'au_dessus_de', 'derriere']\": 1, \"['sous', 'a_cote_de', 'en_face_de']\": 1, \"['en_face_de', 'sous']\": 1, \"['autour_de', 'contre', 'sous']\": 1, \"['en_face_de', 'a_cote_de', 'devant']\": 1, '[\\'loin_de\\', \"a_l\\'exterieur_de\", \\'derriere\\']': 1, \"['pres_de', 'a_cote_de', 'derriere', 'devant']\": 1, \"['contre', 'a_cote_de', 'au_dessus_de']\": 1, \"['au_dessus_de', 'a_cote_de', 'contre', 'derriere', 'pres_de']\": 1, \"['devant', 'a_cote_de', 'le_long_de']\": 1, \"['au_niveau_de', 'a_cote_de', 'au_dessus_de', 'pres_de']\": 1, \"['au_niveau_de', 'a_cote_de', 'sous']\": 1, \"['sous', 'au_niveau_de']\": 1, \"['contre', 'devant', 'sur']\": 1, \"['contre', 'au_niveau_de', 'devant', 'le_long_de']\": 1, \"['sur', 'au_niveau_de', 'pres_de']\": 1, \"['sur', 'a_cote_de', 'contre']\": 1, \"['loin_de', 'pres_de']\": 1, \"['devant', 'en_face_de', 'sous']\": 1, \"['a_cote_de', 'le_long_de']\": 1, \"['sous', 'a_cote_de']\": 1, \"['pres_de', 'devant', 'en_face_de']\": 1, '[\\'pres_de\\', \"a_l\\'exterieur_de\"]': 1, \"['contre', 'a_cote_de', 'au_niveau_de', 'devant']\": 1, \"['contre', 'contre']\": 1, \"['a_cote', 'au_niveau_de', 'derriere']\": 1, \"['pres_de', 'derriere', 'sous']\": 1, \"['par_dela', 'derriere', 'loin_de']\": 1, \"['en_face_de', 'devant', 'sous']\": 1, \"['en_face_de', 'au_dessus_de', 'derriere']\": 1, \"['pres_de', 'au_dessus_de', 'en_face_de']\": 1, \"['en_face_de', 'au_dessus_de']\": 1, \"['au_dessus_de', 'contre', 'sur']\": 1, \"['contre', 'au_niveau_de']\": 1, \"['a_cote_de', 'au_niveau_de', 'en_travers_de', 'pres_de']\": 1, \"['sous', 'au_niveau_de', 'pres_de']\": 1, \"['pres_de', 'au_niveau_de', 'contre']\": 1, \"['a_cote_de', 'contre', 'devant']\": 1, \"['derriere', 'a_cote_de', 'contre', 'pres_de']\": 1, \"['derriere', 'autour_de', 'contre']\": 1, \"['devant', 'au_niveau_de', 'contre']\": 1, \"['par_dela', 'derriere', 'sous']\": 1, '[\"a_l\\'exterieur_de\", \\'derriere\\']': 1, \"['loin_de', 'au_dessus_de']\": 1, \"['a_cote_de', 'au_niveau_de', 'par_dela']\": 1, \"['a_cote_de', 'derriere', 'devant', 'pres_de']\": 1, \"['devant', 'au_dessus_de', 'en_face_de', 'pres_de']\": 1, \"['devant', 'a_cote_de', 'en_face_de', 'pres_de']\": 1, \"['sur', 'contre', 'derriere']\": 1, \"['sous', 'derriere', 'pres_de']\": 1, \"['devant', 'loin_de', 'sous']\": 1, '[\"a_l\\'exterieur_de\", \\'loin_de\\', \\'par_dela\\']': 1, '[\\'au_dessus_de\\', \"a_l\\'exterieur_de\", \\'loin_de\\']': 1, \"['au_dessus_de', 'sur']\": 1, \"['devant', 'contre', 'sous']\": 1, \"['par_dela', 'devant', 'loin_de']\": 1, \"['a_cote_de', 'au_niveau_de', 'derriere', 'le_long_de', 'pres_de']\": 1, \"['pres', 'a_cote_de']\": 1, \"['pres_de', 'au_dessus_de', 'devant']\": 1, \"['devant', 'derriere', 'en_face_de']\": 1, \"['devant', 'en_face_de', 'loin_de']\": 1, \"['a_cote_de', 'devant', 'le_long_de']\": 1, \"['devant', 'au_dessus_de', 'derriere', 'pres_de']\": 1, \"['le_long_de', 'contre', 'devant']\": 1, \"['le_long_de', 'a_cote_de', 'derriere', 'pres_de']\": 1, '[\\'au_dessus_de\\', \"a_l\\'exterieur_de\"]': 1, \"['derriere', 'contre', 'par_dela']\": 1, \"['le_long_de', 'au_niveau_de', 'loin_de']\": 1, \"['derriere', 'au_niveau_de', 'loin_de']\": 1, '[\\'devant\\', \"a_l\\'exterieur_de\", \\'au_niveau_de\\', \\'loin_de\\']': 1, \"['sous', 'derriere', 'le_long_de', 'pres_de']\": 1, '[\\'a_cote_de\\', \"a_l\\'exterieur_de\", \\'pres_de\\']': 1, \"['pres_de', 'a_cote_de', 'au_niveau_de', 'sous']\": 1, '[\\'a_cote_de\\', \"a_l\\'exterieur_de\"]': 1, \"['loin_de', 'au_dessus_de', 'devant', 'par_dela']\": 1, \"['derriere', 'en_face_de', 'loin_de']\": 1, '[\"a_l\\'exterieur_de\", \\'pres_de\\']': 1, \"['pres_de', 'le_long_de']\": 1, \"['loin_de', 'au_niveau_de', 'derriere']\": 1, '[\\'devant\\', \"a_l\\'exterieur_de\", \\'en_face_de\\']': 1, \"['derriere', 'a_cote_de', 'au_niveau_de']\": 1, '[\\'devant\\', \"a_l\\'exterieur_de\", \\'contre\\']': 1, \"['devant', 'contre', 'le_long_de']\": 1, '[\"a_l\\'exterieur_de\", \\'a_cote_de\\', \\'contre\\']': 1, '[\"a_l\\'exterieur_de\", \\'derriere\\', \\'devant\\']': 1})\n"
     ]
    }
   ],
   "source": [
    "Multi_Counter = Counter(str(e) for e in multi_spatial)\n",
    "print(Multi_Counter)"
   ]
  },
  {
   "cell_type": "code",
   "execution_count": 9,
   "metadata": {},
   "outputs": [],
   "source": [
    "def stratified_sampling(your_list):\n",
    "    print(len(your_list))\n",
    "    #Store the counters of the labels\n",
    "    train_labels = []\n",
    "    test_labels =[]\n",
    "    valid_labels = []\n",
    "    #Store information of image\n",
    "    train_info = []\n",
    "    test_info = []\n",
    "    valid_info = []\n",
    "\n",
    "    #This should only iterate for multi labels first then\n",
    "    #It will go through \n",
    "    all_labels = []\n",
    "    multi_labels_count = 0\n",
    "    single_labels_count = 0\n",
    "    count1 = 0\n",
    "    count2 = 0\n",
    "    count3 = 0\n",
    "    count4 = 0\n",
    "    count5 = 0\n",
    "    count6 = 0\n",
    "    count7 = 0\n",
    "    for i in range(len(your_list)):\n",
    "        x = your_list[i][0]\n",
    "        x = ast.literal_eval(x)\n",
    "        x = [n.strip() for n in x]\n",
    "\n",
    "        #print(Counter(test_labels).get(x[0]))\n",
    "        #This is for multi labels\n",
    "        if len(x) > 1:\n",
    "            multi_labels_count += 1\n",
    "            if (Counter(test_labels).get(x[0]) == None):\n",
    "                count1 += 1\n",
    "                test_info.append(your_list[i])\n",
    "                for j in x:\n",
    "                    test_labels.append(j)\n",
    "            elif (Counter(valid_labels).get(x[0]) == None):\n",
    "                count2 += 1\n",
    "                valid_info.append(your_list[i])\n",
    "                for j in x:\n",
    "                    valid_labels.append(j)\n",
    "            elif (Counter(train_labels).get(x[0]) == None):\n",
    "                count3 += 1\n",
    "                train_info.append(your_list[i])\n",
    "                for j in x:\n",
    "                    train_labels.append(j)\n",
    "            else:\n",
    "                if Counter(test_labels).get(x[0]) < Counter(valid_labels).get(x[0]):\n",
    "                    count4 += 1\n",
    "                    test_info.append(your_list[i])\n",
    "                    for j in x:\n",
    "                        test_labels.append(j)\n",
    "                elif Counter(test_labels).get(x[0]) > Counter(valid_labels).get(x[0]):\n",
    "                    count5 += 1\n",
    "                    valid_info.append(your_list[i])\n",
    "                    for j in x:\n",
    "                        valid_labels.append(j)\n",
    "                elif Counter(train_labels).get(x[0]) <= ((Counter(valid_labels).get(x[0]) + Counter(train_labels).get(x[0]) + Counter(test_labels).get(x[0])) * 0.60):\n",
    "                    count6 += 1\n",
    "                    train_info.append(your_list[i])\n",
    "                    for j in x:\n",
    "                        train_labels.append(j)\n",
    "                elif Counter(test_labels).get(x[0]) == Counter(valid_labels).get(x[0]):\n",
    "                    count4 += 1\n",
    "                    test_info.append(your_list[i])\n",
    "                    for j in x:\n",
    "                        test_labels.append(j)\n",
    "                else:\n",
    "                    print(Counter(test_labels).get(x[0]))\n",
    "                    print(Counter(valid_labels).get(x[0]))\n",
    "                    print(Counter(train_labels).get(x[0]))\n",
    "                    count7 += 1\n",
    "        else:\n",
    "            single_labels_count += 1\n",
    "            if (Counter(test_labels).get(x[0]) == None):\n",
    "                count1 += 1\n",
    "                test_info.append(your_list[i])\n",
    "                test_labels.append(x[0])\n",
    "\n",
    "            elif (Counter(valid_labels).get(x[0]) == None):\n",
    "                count2 += 1\n",
    "                valid_info.append(your_list[i])\n",
    "                valid_labels.append(x[0])\n",
    "            elif (Counter(train_labels).get(x[0]) == None):\n",
    "                count3 += 1\n",
    "                train_info.append(your_list[i])\n",
    "                train_labels.append(x[0])\n",
    "            else:\n",
    "                if Counter(test_labels).get(x[0]) < Counter(valid_labels).get(x[0]):\n",
    "                    count4 += 1\n",
    "                    test_info.append(your_list[i])\n",
    "                    test_labels.append(x[0])\n",
    "                elif Counter(test_labels).get(x[0]) > Counter(valid_labels).get(x[0]):\n",
    "                    count5 += 1\n",
    "                    valid_info.append(your_list[i])\n",
    "                    valid_labels.append(x[0])\n",
    "                elif Counter(train_labels).get(x[0]) <= ((Counter(valid_labels).get(x[0]) + Counter(train_labels).get(x[0]) + Counter(test_labels).get(x[0])) * 0.60):\n",
    "                    count6 += 1\n",
    "                    train_info.append(your_list[i])\n",
    "                    train_labels.append(x[0])\n",
    "                elif Counter(test_labels).get(x[0]) == Counter(valid_labels).get(x[0]):\n",
    "                    count4 += 1\n",
    "                    test_info.append(your_list[i])\n",
    "                    test_labels.append(x[0])\n",
    "                else:\n",
    "                    print(Counter(test_labels).get(x[0]))\n",
    "                    print(Counter(valid_labels).get(x[0]))\n",
    "                    print(Counter(train_labels).get(x[0]))\n",
    "                    count7 += 1\n",
    "\n",
    "    return train_info,test_info,valid_info"
   ]
  },
  {
   "cell_type": "code",
   "execution_count": 10,
   "metadata": {},
   "outputs": [],
   "source": [
    "def create_10_random_datasets():\n",
    "    #Read the list \n",
    "    with open(\"SpatialVoc2k/SpatialVoc2k_Edited.csv\", 'r') as f:\n",
    "        reader = csv.reader(f)\n",
    "        your_list = list(reader)\n",
    "    f.close()\n",
    "\n",
    "    #Creating 10 randomly distributed datasets having them stratified sampled.\n",
    "    for i in range(10):\n",
    "        train_path =  \"SpatialVoc2k/Training_data_\"+str(i)+\".csv\"\n",
    "        test_path =  \"SpatialVoc2k/Testing_data_\"+str(i)+\".csv\"\n",
    "        valid_path =  \"SpatialVoc2k/Validation_data_\"+str(i)+\".csv\"\n",
    "        \n",
    "        random.shuffle(your_list)\n",
    "        train_info,test_info,valid_info = stratified_sampling(your_list)\n",
    "        \n",
    "        with open(train_path,\"a\",newline=\"\") as f6: \n",
    "            cw = csv.writer(f6)\n",
    "            cw.writerows(train_info)\n",
    "        f6.close()\n",
    "        \n",
    "        with open(test_path,\"a\",newline=\"\") as f6: \n",
    "            cw = csv.writer(f6)\n",
    "            cw.writerows(test_info)\n",
    "        f6.close()\n",
    "        \n",
    "        with open(valid_path,\"a\",newline=\"\") as f6: \n",
    "            cw = csv.writer(f6)\n",
    "            cw.writerows(valid_info)\n",
    "        f6.close()\n",
    "        \n",
    "                                                      "
   ]
  },
  {
   "cell_type": "code",
   "execution_count": 11,
   "metadata": {},
   "outputs": [
    {
     "name": "stdout",
     "output_type": "stream",
     "text": [
      "5316\n",
      "5316\n",
      "5316\n",
      "5316\n",
      "5316\n",
      "5316\n",
      "5316\n",
      "5316\n",
      "5316\n",
      "5316\n"
     ]
    }
   ],
   "source": [
    "create_10_random_datasets()"
   ]
  },
  {
   "cell_type": "code",
   "execution_count": 17,
   "metadata": {},
   "outputs": [
    {
     "name": "stdout",
     "output_type": "stream",
     "text": [
      "Counter({'pres_de': 609, 'a_cote_de': 355, 'devant': 275, 'derriere': 265, 'au_niveau_de': 242, 'contre': 153, 'sous': 107, 'loin_de': 101, 'sur': 90, 'en_face_de': 67, 'au_dessus_de': 30, 'le_long_de': 18, 'dans': 15, 'par_dela': 11, \"a_l'exterieur_de\": 10, 'autour_de': 9, 'aucun': 6})\n",
      "Counter({'pres_de': 607, 'a_cote_de': 355, 'devant': 275, 'derriere': 265, 'au_niveau_de': 244, 'contre': 151, 'sous': 107, 'loin_de': 101, 'sur': 89, 'en_face_de': 67, 'au_dessus_de': 30, 'le_long_de': 17, 'dans': 15, 'par_dela': 11, \"a_l'exterieur_de\": 10, 'autour_de': 8, 'aucun': 6})\n",
      "Counter({'pres_de': 1638, 'a_cote_de': 1061, 'devant': 822, 'derriere': 795, 'au_niveau_de': 666, 'contre': 426, 'sous': 319, 'loin_de': 274, 'sur': 268, 'en_face_de': 199, 'au_dessus_de': 88, 'le_long_de': 50, 'dans': 44, \"a_l'exterieur_de\": 31, 'par_dela': 25, 'autour_de': 25, 'aucun': 16})\n"
     ]
    }
   ],
   "source": [
    "#Checking if Stratified Sampling Worked\n",
    "with open(\"SpatialVoc2k/Testing_data_0.csv\", 'r') as f:\n",
    "    reader = csv.reader(f)\n",
    "    your_list = list(reader)\n",
    "f.close()\n",
    "\n",
    "spatial = []\n",
    "single = 0\n",
    "multi = 0\n",
    "multi_spatial = []\n",
    "for i in range(len(your_list)):\n",
    "    x = ast.literal_eval(your_list[i][0])\n",
    "    x = [n.strip() for n in x]\n",
    "    if len(x) > 1 :\n",
    "        multi_spatial.append(x)\n",
    "        multi += 1\n",
    "    for j in range(len(x)):\n",
    "        single += 1 \n",
    "        spatial.append(x[j])\n",
    "    \n",
    "spatials = Counter(spatial)\n",
    "print(spatials)\n",
    "\n",
    "#Checking if Stratified Sampling Worked\n",
    "with open(\"SpatialVoc2k/Validation_data_0.csv\", 'r') as f:\n",
    "    reader = csv.reader(f)\n",
    "    your_list = list(reader)\n",
    "f.close()\n",
    "\n",
    "spatial = []\n",
    "single = 0\n",
    "multi = 0\n",
    "multi_spatial = []\n",
    "for i in range(len(your_list)):\n",
    "    x = ast.literal_eval(your_list[i][0])\n",
    "    x = [n.strip() for n in x]\n",
    "    if len(x) > 1 :\n",
    "        multi_spatial.append(x)\n",
    "        multi += 1\n",
    "    for j in range(len(x)):\n",
    "        single += 1 \n",
    "        spatial.append(x[j])\n",
    "        \n",
    "spatials = Counter(spatial)\n",
    "print(spatials)\n",
    "\n",
    "#Checking if Stratified Sampling Worked\n",
    "with open(\"SpatialVoc2k/Training_data_0.csv\", 'r') as f:\n",
    "    reader = csv.reader(f)\n",
    "    your_list = list(reader)\n",
    "f.close()\n",
    "\n",
    "spatial = []\n",
    "single = 0\n",
    "multi = 0\n",
    "multi_spatial = []\n",
    "for i in range(len(your_list)):\n",
    "    x = ast.literal_eval(your_list[i][0])\n",
    "    x = [n.strip() for n in x]\n",
    "    if len(x) > 1 :\n",
    "        multi_spatial.append(x)\n",
    "        multi += 1\n",
    "    for j in range(len(x)):\n",
    "        single += 1 \n",
    "        spatial.append(x[j])\n",
    "\n",
    "spatials = Counter(spatial)\n",
    "print(spatials)"
   ]
  },
  {
   "cell_type": "code",
   "execution_count": 4,
   "metadata": {},
   "outputs": [],
   "source": [
    "with open('SpatialVoc2k/french_2_3.json') as f:\n",
    "    data = json.load(f)\n",
    "f.close()\n",
    "all_labels = []\n",
    "for x in range(len(data)):\n",
    "    img_name = list(data.keys())[x]\n",
    "    width = data.get(img_name).get('width')\n",
    "    height = data.get(img_name).get('height')\n",
    "    \n",
    "    for i in range(len(data.get(img_name).get('relations'))):\n",
    "        #subject = data.get(img_name).get('relations')[i].get('object_0')\n",
    "        #objective = data.get(img_name).get('relations')[i].get('object_1')\n",
    "        labels = data.get(img_name).get('relations')[i].get('all')\n",
    "        for j in range(len(labels)):\n",
    "            all_labels.append(labels[j])"
   ]
  },
  {
   "cell_type": "code",
   "execution_count": 5,
   "metadata": {},
   "outputs": [
    {
     "name": "stdout",
     "output_type": "stream",
     "text": [
      "Counter({'pres_de': 2856, 'a_cote_de': 1773, 'devant': 1372, 'derriere': 1326, 'au_niveau_de': 1155, 'contre': 730, 'sous': 533, 'loin_de': 476, 'sur': 447, 'en_face_de': 333, 'au_dessus_de': 148, 'le_long_de': 85, 'dans': 74, \"a_l'exterieur_de\": 51, 'par_dela': 47, 'autour_de': 42, 'aucun': 28, 'au_dessous_de': 1, 'a_cote': 1, 'en_travers_de': 1, 'pres': 1})\n"
     ]
    }
   ],
   "source": [
    "spatials = Counter(all_labels)\n",
    "print(spatials)"
   ]
  },
  {
   "cell_type": "code",
   "execution_count": null,
   "metadata": {},
   "outputs": [],
   "source": []
  }
 ],
 "metadata": {
  "kernelspec": {
   "display_name": "Python 3",
   "language": "python",
   "name": "python3"
  },
  "language_info": {
   "codemirror_mode": {
    "name": "ipython",
    "version": 3
   },
   "file_extension": ".py",
   "mimetype": "text/x-python",
   "name": "python",
   "nbconvert_exporter": "python",
   "pygments_lexer": "ipython3",
   "version": "3.6.7"
  }
 },
 "nbformat": 4,
 "nbformat_minor": 2
}
