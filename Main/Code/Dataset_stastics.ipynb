{
 "cells": [
  {
   "cell_type": "code",
   "execution_count": 21,
   "metadata": {
    "scrolled": true
   },
   "outputs": [],
   "source": [
    "import csv\n",
    "import ast\n",
    "import numpy as np\n",
    "import matplotlib.pyplot as plt\n",
    "from collections import Counter"
   ]
  },
  {
   "cell_type": "code",
   "execution_count": 11,
   "metadata": {
    "scrolled": true
   },
   "outputs": [],
   "source": [
    "def return_data(testing_location,training_location,validation_location):\n",
    "    with open(testing_location, 'r') as f:\n",
    "        reader = csv.reader(f)\n",
    "        test_data = list(reader)\n",
    "    f.close()\n",
    "\n",
    "    with open(training_location, 'r') as f:\n",
    "        reader = csv.reader(f)\n",
    "        train_data = list(reader)\n",
    "    f.close()\n",
    "\n",
    "    with open(validation_location, 'r') as f:\n",
    "        reader = csv.reader(f)\n",
    "        valid_data = list(reader)\n",
    "    f.close()\n",
    "    return test_data,train_data,valid_data"
   ]
  },
  {
   "cell_type": "code",
   "execution_count": 12,
   "metadata": {
    "scrolled": true
   },
   "outputs": [],
   "source": [
    "def create_label_lists(test_data,train_data,valid_data):\n",
    "    all_labels = []\n",
    "    multi_labels = []\n",
    "    counts = []\n",
    "    for i in range(len(test_data)):\n",
    "        label = test_data[i][0]\n",
    "        label = ast.literal_eval(label)\n",
    "        x = [n.strip() for n in label]\n",
    "        counts.append(len(x))\n",
    "        if len(x) > 1:\n",
    "            multi_labels.append(x)\n",
    "        for k in range(len(x)):\n",
    "            all_labels.append(x[k])\n",
    "    \n",
    "    for i in range(len(train_data)):\n",
    "        label = train_data[i][0]\n",
    "        label = ast.literal_eval(label)\n",
    "        x = [n.strip() for n in label]\n",
    "        counts.append(len(x))\n",
    "        if len(x) > 1:\n",
    "            multi_labels.append(x)\n",
    "        for k in range(len(x)):\n",
    "            all_labels.append(x[k])\n",
    "        \n",
    "    for i in range(len(valid_data)):\n",
    "        label = valid_data[i][0]\n",
    "        label = ast.literal_eval(label)\n",
    "        x = [n.strip() for n in label]\n",
    "        counts.append(len(x))\n",
    "        if len(x) > 1:\n",
    "            multi_labels.append(x)\n",
    "        for k in range(len(x)):\n",
    "            all_labels.append(x[k])\n",
    "    \n",
    "    return all_labels,multi_labels,counts"
   ]
  },
  {
   "cell_type": "code",
   "execution_count": 13,
   "metadata": {
    "scrolled": true
   },
   "outputs": [],
   "source": [
    "testing_location    = \"TTV/Testing_data_0.csv\"\n",
    "training_location   = \"TTV/Training_data_0.csv\"\n",
    "validation_location = \"TTV/Validation_data_0.csv\"\n",
    "\n",
    "test_data,train_data,valid_data = return_data(testing_location,training_location,validation_location)\n",
    "all_labels,multi_labels,counts = create_label_lists(test_data,train_data,valid_data)"
   ]
  },
  {
   "cell_type": "code",
   "execution_count": 15,
   "metadata": {
    "scrolled": true
   },
   "outputs": [
    {
     "name": "stdout",
     "output_type": "stream",
     "text": [
      "84132\n",
      "90229\n",
      "5260\n"
     ]
    }
   ],
   "source": [
    "print(len(counts))\n",
    "print(len(all_labels))\n",
    "print(len(multi_labels))"
   ]
  },
  {
   "cell_type": "code",
   "execution_count": 20,
   "metadata": {
    "scrolled": true
   },
   "outputs": [
    {
     "name": "stdout",
     "output_type": "stream",
     "text": [
      "Counter({1: 78872, 2: 4504, 3: 685, 4: 61, 5: 10})\n",
      "Counter({'on': 21269, 'in': 15624, 'above': 8677, 'behind': 7537, 'next': 7470, 'front': 5297, 'under': 5096, 'near': 4291, 'below': 3019, 'at': 2663, 'beside': 2393, 'over': 1972, 'left': 1412, 'by': 1320, 'right': 1217, 'top': 972})\n"
     ]
    }
   ],
   "source": [
    "all_counts = Counter(counts)\n",
    "all_label_counts = Counter(all_labels)\n",
    "print(all_counts)\n",
    "print(all_label_counts)"
   ]
  },
  {
   "cell_type": "code",
   "execution_count": 36,
   "metadata": {
    "scrolled": true
   },
   "outputs": [
    {
     "data": {
      "image/png": "[encoded data removed]",
      "text/plain": [
       "<Figure size 432x288 with 1 Axes>"
      ]
     },
     "metadata": {
      "needs_background": "light"
     },
     "output_type": "display_data"
    }
   ],
   "source": [
    "plt.hist(counts, bins = 10)\n",
    "plt.ylabel('Amount');\n",
    "plt.xlabel('Label Combinations')\n",
    "plt.savefig('Statistics/Combinations.png')"
   ]
  },
  {
   "cell_type": "code",
   "execution_count": 50,
   "metadata": {
    "scrolled": true
   },
   "outputs": [
    {
     "data": {
      "image/png": "[encoded data removed]",
      "text/plain": [
       "<Figure size 432x288 with 1 Axes>"
      ]
     },
     "metadata": {
      "needs_background": "light"
     },
     "output_type": "display_data"
    }
   ],
   "source": [
    "plt.hist(all_labels,bins = 60)\n",
    "plt.xlabel('Labels')\n",
    "plt.xticks(rotation=90)\n",
    "plt.ylabel('Amount');\n",
    "plt.savefig('Statistics/AllLabels.png')"
   ]
  },
  {
   "cell_type": "code",
   "execution_count": 82,
   "metadata": {
    "scrolled": true
   },
   "outputs": [
    {
     "name": "stdout",
     "output_type": "stream",
     "text": [
      "Counter({\"['in', 'on']\": 440, \"['above', 'on']\": 218, \"['next', 'beside']\": 200, \"['next', 'near']\": 194, \"['under', 'below']\": 193, \"['under', 'at']\": 184, \"['on', 'at']\": 172, \"['above', 'over']\": 153, \"['on', 'top']\": 150, \"['under', 'below', 'at']\": 148, \"['in', 'next']\": 119, \"['over', 'above']\": 116, \"['in', 'near']\": 107, \"['in', 'at']\": 93, \"['below', 'at']\": 91, \"['next', 'left']\": 91, \"['next', 'front']\": 87, \"['above', 'in']\": 81, \"['behind', 'next']\": 79, \"['above', 'behind']\": 79, \"['over', 'on']\": 78, \"['behind', 'near']\": 74, \"['near', 'front']\": 64, \"['beside', 'near']\": 58, \"['on', 'near']\": 57, \"['in', 'under']\": 52, \"['above', 'near']\": 48, \"['in', 'front']\": 48, \"['in', 'behind']\": 48, \"['by', 'near']\": 48, \"['next', 'right']\": 48, \"['above', 'top']\": 47, \"['next', 'at']\": 39, \"['in', 'top']\": 38, \"['by', 'next']\": 36, \"['in', 'on', 'top']\": 34, \"['on', 'front']\": 31, \"['right', 'next']\": 31, \"['below', 'near']\": 29, \"['in', 'below']\": 26, \"['over', 'above', 'on']\": 26, \"['right', 'front']\": 24, \"['under', 'near']\": 24, \"['top', 'at']\": 24, \"['over', 'in']\": 24, \"['behind', 'at']\": 23, \"['at', 'front']\": 22, \"['above', 'next']\": 22, \"['above', 'on', 'over']\": 22, \"['by', 'front']\": 22, \"['above', 'on', 'top']\": 21, \"['on', 'next']\": 21, \"['behind', 'left']\": 20, \"['behind', 'beside']\": 20, \"['in', 'beside']\": 20, \"['by', 'behind']\": 19, \"['behind', 'front']\": 19, \"['below', 'front']\": 19, \"['next', 'beside', 'near']\": 19, \"['right', 'near']\": 19, \"['above', 'in', 'on']\": 18, \"['beside', 'front']\": 18, \"['left', 'near']\": 17, \"['right', 'beside']\": 17, \"['behind', 'on']\": 17, \"['under', 'on']\": 17, \"['in', 'on', 'at']\": 16, \"['behind', 'right']\": 15, \"['near', 'at']\": 15, \"['on', 'below']\": 14, \"['beside', 'left']\": 13, \"['left', 'front']\": 13, \"['on', 'top', 'at']\": 12, \"['under', 'front']\": 12, \"['in', 'next', 'near']\": 12, \"['in', 'left']\": 12, \"['under', 'next']\": 12, \"['over', 'near']\": 11, \"['in', 'right']\": 11, \"['beside', 'next', 'near']\": 10, \"['in', 'next', 'beside']\": 10, \"['above', 'top', 'at']\": 10, \"['above', 'at']\": 9, \"['over', 'behind']\": 9, \"['near', 'left']\": 9, \"['by', 'beside']\": 9, \"['above', 'beside']\": 9, \"['below', 'next']\": 9, \"['by', 'in']\": 8, \"['above', 'in', 'on', 'top']\": 8, \"['in', 'under', 'at']\": 8, \"['above', 'on', 'near']\": 7, \"['above', 'in', 'top']\": 7, \"['by', 'next', 'near']\": 7, \"['on', 'under']\": 7, \"['next', 'below']\": 7, \"['by', 'under']\": 7, \"['above', 'front']\": 6, \"['in', 'next', 'front']\": 6, \"['beside', 'at']\": 6, \"['behind', 'beside', 'next']\": 6, \"['by', 'right']\": 6, \"['over', 'next']\": 6, \"['above', 'left']\": 6, \"['on', 'behind']\": 5, \"['over', 'on', 'near']\": 5, \"['behind', 'left', 'next']\": 5, \"['above', 'on', 'at']\": 5, \"['in', 'on', 'near']\": 5, \"['under', 'below', 'near']\": 5, \"['in', 'top', 'at']\": 5, \"['above', 'in', 'at']\": 5, \"['by', 'on']\": 5, \"['below', 'beside']\": 5, \"['next', 'near', 'front']\": 5, \"['in', 'behind', 'near']\": 5, \"['over', 'in', 'on']\": 5, \"['behind', 'below']\": 5, \"['behind', 'near', 'next']\": 4, \"['left', 'at']\": 4, \"['in', 'behind', 'next']\": 4, \"['in', 'beside', 'near']\": 4, \"['by', 'below']\": 4, \"['in', 'on', 'next']\": 4, \"['by', 'above']\": 4, \"['next', 'above', 'on', 'over']\": 4, \"['beside', 'next', 'left']\": 4, \"['above', 'right']\": 4, \"['on', 'above', 'top']\": 4, \"['under', 'near', 'at']\": 4, \"['over', 'above', 'near']\": 4, \"['in', 'behind', 'at']\": 4, \"['on', 'beside']\": 4, \"['under', 'left']\": 4, \"['in', 'right', 'next']\": 4, \"['next', 'left', 'near']\": 4, \"['under', 'at', 'next']\": 4, \"['next', 'right', 'front']\": 3, \"['in', 'near', 'at']\": 3, \"['over', 'on', 'at']\": 3, \"['right', 'left']\": 3, \"['next', 'below', 'front']\": 3, \"['in', 'next', 'left']\": 3, \"['on', 'in', 'top']\": 3, \"['over', 'in', 'on', 'above']\": 3, \"['under', 'below', 'at', 'near']\": 3, \"['under', 'beside']\": 3, \"['under', 'behind']\": 3, \"['under', 'on', 'at']\": 3, \"['over', 'in', 'under']\": 3, \"['next', 'beside', 'left']\": 3, \"['next', 'near', 'at']\": 3, \"['near', 'at', 'front']\": 3, \"['below', 'near', 'at']\": 3, \"['above', 'behind', 'over']\": 3, \"['above', 'near', 'over']\": 3, \"['in', 'below', 'at']\": 3, \"['behind', 'on', 'at']\": 3, \"['by', 'left']\": 3, \"['by', 'behind', 'near']\": 3, \"['top', 'near']\": 3, \"['by', 'beside', 'near']\": 3, \"['above', 'top', 'next']\": 2, \"['over', 'front']\": 2, \"['behind', 'near', 'at']\": 2, \"['near', 'behind', 'beside', 'next']\": 2, \"['above', 'on', 'next']\": 2, \"['above', 'on', 'top', 'near']\": 2, \"['over', 'above', 'on', 'next']\": 2, \"['above', 'in', 'top', 'at']\": 2, \"['in', 'right', 'near']\": 2, \"['on', 'left']\": 2, \"['below', 'right']\": 2, \"['right', 'beside', 'next']\": 2, \"['right', 'near', 'next']\": 2, \"['in', 'near', 'front']\": 2, \"['over', 'under']\": 2, \"['in', 'under', 'below', 'at']\": 2, \"['behind', 'beside', 'near']\": 2, \"['in', 'beside', 'front']\": 2, \"['above', 'in', 'on', 'over']\": 2, \"['on', 'at', 'next']\": 2, \"['above', 'under']\": 2, \"['in', 'on', 'front']\": 2, \"['above', 'on', 'top', 'at']\": 2, \"['next', 'beside', 'front']\": 2, \"['on', 'top', 'next']\": 2, \"['behind', 'under']\": 2, \"['beside', 'near', 'front']\": 2, \"['on', 'top', 'near']\": 2, \"['in', 'next', 'at']\": 2, \"['above', 'below']\": 2, \"['in', 'on', 'top', 'at']\": 2, \"['on', 'near', 'next']\": 2, \"['above', 'at', 'over']\": 2, \"['on', 'near', 'at']\": 2, \"['under', 'below', 'front']\": 2, \"['by', 'in', 'near']\": 2, \"['behind', 'top']\": 2, \"['by', 'next', 'front']\": 1, \"['behind', 'right', 'front']\": 1, \"['in', 'next', 'beside', 'left']\": 1, \"['in', 'above', 'top', 'on', 'at']\": 1, \"['above', 'behind', 'near', 'next']\": 1, \"['under', 'near', 'front']\": 1, \"['behind', 'next', 'at']\": 1, \"['behind', 'left', 'below']\": 1, \"['over', 'in', 'above']\": 1, \"['over', 'beside']\": 1, \"['right', 'at']\": 1, \"['behind', 'under', 'at']\": 1, \"['next', 'left', 'front']\": 1, \"['on', 'left', 'at']\": 1, \"['above', 'next', 'at']\": 1, \"['behind', 'right', 'next']\": 1, \"['by', 'in', 'next']\": 1, \"['in', 'at', 'front']\": 1, \"['on', 'above', 'top', 'at']\": 1, \"['above', 'on', 'near', 'at']\": 1, \"['above', 'top', 'over']\": 1, \"['near', 'on', 'beside', 'next']\": 1, \"['in', 'near', 'above', 'top', 'on']\": 1, \"['beside', 'in', 'near']\": 1, \"['next', 'left', 'below', 'near']\": 1, \"['by', 'above', 'near']\": 1, \"['on', 'beside', 'next']\": 1, \"['below', 'front', 'next']\": 1, \"['under', 'at', 'front']\": 1, \"['in', 'next', 'beside', 'near']\": 1, \"['above', 'next', 'beside', 'over']\": 1, \"['in', 'left', 'at', 'near']\": 1, \"['over', 'left']\": 1, \"['over', 'above', 'on', 'top']\": 1, \"['over', 'next', 'beside']\": 1, \"['above', 'right', 'near', 'next']\": 1, \"['right', 'top']\": 1, \"['in', 'next', 'beside', 'at']\": 1, \"['on', 'in', 'behind']\": 1, \"['above', 'by']\": 1, \"['by', 'at']\": 1, \"['in', 'behind', 'top', 'front']\": 1, \"['next', 'beside', 'at']\": 1, \"['left', 'beside', 'at']\": 1, \"['next', 'below', 'near']\": 1, \"['top', 'next']\": 1, \"['beside', 'at', 'front']\": 1, \"['beside', 'behind', 'near']\": 1, \"['above', 'top', 'near']\": 1, \"['front', 'beside', 'near']\": 1, \"['by', 'near', 'front']\": 1, \"['below', 'at', 'next']\": 1, \"['under', 'right', 'at']\": 1, \"['by', 'in', 'left', 'near', 'beside']\": 1, \"['in', 'next', 'below']\": 1, \"['over', 'under', 'below', 'next']\": 1, \"['below', 'near', 'front']\": 1, \"['over', 'in', 'top']\": 1, \"['next', 'top']\": 1, \"['near', 'beside', 'front']\": 1, \"['behind', 'next', 'left']\": 1, \"['under', 'below', 'next']\": 1, \"['next', 'beside', 'at', 'near']\": 1, \"['on', 'right']\": 1, \"['behind', 'at', 'front']\": 1, \"['over', 'above', 'on', 'in']\": 1, \"['above', 'in', 'near']\": 1, \"['below', 'at', 'front']\": 1, \"['by', 'in', 'right']\": 1, \"['above', 'in', 'front']\": 1, \"['in', 'next', 'near', 'beside', 'at']\": 1, \"['by', 'right', 'front']\": 1, \"['right', 'next', 'near']\": 1, \"['on', 'above', 'top', 'near']\": 1, \"['above', 'top', 'beside', 'next']\": 1, \"['top', 'at', 'next']\": 1, \"['over', 'in', 'at']\": 1, \"['by', 'next', 'beside']\": 1, \"['over', 'behind', 'near']\": 1, \"['in', 'on', 'near', 'left']\": 1, \"['above', 'behind', 'near']\": 1, \"['in', 'above', 'over', 'on', 'at']\": 1, \"['over', 'on', 'next']\": 1, \"['next', 'behind', 'front']\": 1, \"['behind', 'next', 'beside', 'left']\": 1, \"['in', 'beside', 'left']\": 1, \"['below', 'under', 'near', 'on', 'at']\": 1, \"['over', 'in', 'behind', 'near']\": 1, \"['above', 'behind', 'at']\": 1, \"['under', 'in', 'below', 'at']\": 1, \"['under', 'right']\": 1, \"['behind', 'next', 'near', 'above', 'beside']\": 1, \"['over', 'above', 'on', 'near']\": 1, \"['over', 'above', 'behind']\": 1, \"['above', 'in', 'beside']\": 1, \"['by', 'next', 'left']\": 1, \"['behind', 'above', 'next']\": 1, \"['on', 'next', 'beside']\": 1, \"['behind', 'next', 'beside']\": 1, \"['next', 'beside', 'below']\": 1, \"['by', 'in', 'beside']\": 1, \"['below', 'above', 'top', 'on', 'at']\": 1, \"['above', 'left', 'near']\": 1, \"['in', 'above', 'over', 'top', 'on']\": 1, \"['on', 'near', 'front']\": 1, \"['in', 'behind', 'beside']\": 1, \"['above', 'in', 'top', 'next']\": 1, \"['over', 'top']\": 1, \"['by', 'near', 'at']\": 1, \"['by', 'in', 'at']\": 1, \"['over', 'next', 'near']\": 1, \"['above', 'next', 'beside']\": 1, \"['in', 'under', 'below']\": 1, \"['next', 'beside', 'left', 'near']\": 1, \"['on', 'next', 'near']\": 1, \"['below', 'left', 'near']\": 1, \"['by', 'in', 'front']\": 1, \"['by', 'under', 'front']\": 1, \"['over', 'at']\": 1, \"['under', 'near', 'next']\": 1, \"['beside', 'right', 'near']\": 1, \"['under', 'next', 'right']\": 1, \"['above', 'behind', 'next']\": 1, \"['next', 'near', 'left']\": 1, \"['under', 'on', 'below']\": 1, \"['below', 'next', 'under', 'beside', 'at']\": 1, \"['in', 'right', 'at']\": 1, \"['over', 'above', 'next']\": 1, \"['near', 'under', 'below', 'next']\": 1, \"['behind', 'left', 'near']\": 1, \"['by', 'on', 'front']\": 1, \"['in', 'on', 'below']\": 1, \"['by', 'next', 'beside', 'near']\": 1, \"['over', 'under', 'at']\": 1, \"['above', 'in', 'over']\": 1, \"['on', 'above', 'behind']\": 1, \"['under', 'in', 'below']\": 1, \"['below', 'beside', 'front']\": 1, \"['behind', 'right', 'near']\": 1, \"['behind', 'next', 'near']\": 1, \"['under', 'near', 'below']\": 1, \"['top', 'front']\": 1})\n"
     ]
    }
   ],
   "source": [
    "Multi_Counter = Counter(str(e) for e in multi_labels)\n",
    "print(Multi_Counter)"
   ]
  },
  {
   "cell_type": "code",
   "execution_count": null,
   "metadata": {},
   "outputs": [],
   "source": []
  }
 ],
 "metadata": {
  "kernelspec": {
   "display_name": "Python 3",
   "language": "python",
   "name": "python3"
  },
  "language_info": {
   "codemirror_mode": {
    "name": "ipython",
    "version": 3
   },
   "file_extension": ".py",
   "mimetype": "text/x-python",
   "name": "python",
   "nbconvert_exporter": "python",
   "pygments_lexer": "ipython3",
   "version": "3.6.7"
  }
 },
 "nbformat": 4,
 "nbformat_minor": 2
}
