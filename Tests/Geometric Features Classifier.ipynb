{
 "cells": [
  {
   "cell_type": "code",
   "execution_count": 1,
   "metadata": {},
   "outputs": [],
   "source": [
    "import csv\n",
    "import ast\n",
    "import numpy as np\n",
    "from sklearn import preprocessing"
   ]
  },
  {
   "cell_type": "code",
   "execution_count": 2,
   "metadata": {},
   "outputs": [],
   "source": [
    "number = 0\n",
    "train_path_geo =  \"Geometric/Training_data_\"+str(number)+\".csv\"\n",
    "test_path_geo =  \"Geometric/Testing_data_\"+str(number)+\".csv\"\n",
    "valid_path_geo =  \"Geometric/Validation_data_\"+str(number)+\".csv\"\n",
    "        \n",
    "#Read the list \n",
    "with open(train_path_geo, 'r') as f1:\n",
    "    reader = csv.reader(f1)\n",
    "    your_list = list(reader)\n",
    "f1.close()\n",
    "\n",
    "#Read the list \n",
    "with open(test_path_geo, 'r') as f1:\n",
    "    reader = csv.reader(f1)\n",
    "    your_list_test = list(reader)\n",
    "f1.close()\n",
    "\n",
    "#Read the list \n",
    "with open(valid_path_geo, 'r') as f1:\n",
    "    reader = csv.reader(f1)\n",
    "    your_list_valid = list(reader)\n",
    "f1.close()"
   ]
  },
  {
   "cell_type": "code",
   "execution_count": 68,
   "metadata": {},
   "outputs": [],
   "source": [
    "Y_Train = []\n",
    "X_Train = []\n",
    "for i in range(len(your_list)):\n",
    "    y1 = ast.literal_eval(your_list[i][0])\n",
    "    y1 = [n.strip() for n in y1]\n",
    "    Y_Train.append(y1)\n",
    "    \n",
    "    x1 = [float(your_list[i][1]),float(your_list[i][2]),float(your_list[i][3]),float(your_list[i][4]),float(your_list[i][5])]\n",
    "    X_Train.append(x1)\n",
    "    \n",
    "Y_Test = []\n",
    "X_Test = []\n",
    "for i in range(len(your_list_test)):\n",
    "    y1 = ast.literal_eval(your_list_test[i][0])\n",
    "    y1 = [n.strip() for n in y1]\n",
    "    Y_Test.append(y1)\n",
    "    \n",
    "    x1 = [float(your_list_test[i][1]),float(your_list_test[i][2]),float(your_list_test[i][3]),float(your_list_test[i][4]),float(your_list_test[i][5])]\n",
    "    X_Test.append(x1)\n",
    "    \n",
    "Y_Valid = []\n",
    "X_Valid = []\n",
    "for i in range(len(your_list_valid)):\n",
    "    y1 = ast.literal_eval(your_list[i][0])\n",
    "    y1 = [n.strip() for n in y1]\n",
    "    Y_Valid.append(y1)\n",
    "    \n",
    "    x1 = [float(your_list_valid[i][1]),float(your_list_valid[i][2]),float(your_list_valid[i][3]),float(your_list_valid[i][4]),float(your_list_valid[i][5])]\n",
    "    X_Valid.append(x1)"
   ]
  },
  {
   "cell_type": "code",
   "execution_count": 69,
   "metadata": {},
   "outputs": [],
   "source": [
    "min_max_scaler = preprocessing.MinMaxScaler()\n",
    "X_Train = min_max_scaler.fit_transform(X_Train)\n",
    "X_Valid = min_max_scaler.fit_transform(X_Valid)\n",
    "X_Test = min_max_scaler.fit_transform(X_Test)"
   ]
  },
  {
   "cell_type": "code",
   "execution_count": 70,
   "metadata": {},
   "outputs": [
    {
     "name": "stdout",
     "output_type": "stream",
     "text": [
      "(50498, 5) (16813, 5) (50498,) (16813,) (16821, 5) (16821,)\n"
     ]
    }
   ],
   "source": [
    "print(np.array(X_Train).shape,np.array(X_Test).shape, np.array(Y_Train).shape,np.array(Y_Test).shape,\n",
    "      np.array(X_Valid).shape,np.array(Y_Valid).shape)"
   ]
  },
  {
   "cell_type": "code",
   "execution_count": 88,
   "metadata": {},
   "outputs": [],
   "source": [
    "def csv_generator(X_Train,Y_Train,bs,mlb,mode):\n",
    "    i = 0\n",
    "    while True:\n",
    "        x_features = []\n",
    "        y_features = []\n",
    "        x = 0 \n",
    "        while x < bs:\n",
    "            if i >= len(X_Train):\n",
    "                i = 0\n",
    "                if mode == \"eval\":\n",
    "                    break\n",
    "            if i < len(X_Train):\n",
    "                x_features.append(X_Train[i])\n",
    "                y_features.append(Y_Train[i])\n",
    "                i+=1\n",
    "            else:\n",
    "                i+=1\n",
    "                continue\n",
    "            x +=1\n",
    "            \n",
    "        y_features = np.array(y_features)\n",
    "        y_features = mlb.transform(y_features)\n",
    "        yield(np.array(x_features),y_features)"
   ]
  },
  {
   "cell_type": "code",
   "execution_count": 95,
   "metadata": {
    "scrolled": false
   },
   "outputs": [
    {
     "name": "stdout",
     "output_type": "stream",
     "text": [
      "Epoch 1/10\n",
      "1578/1577 [==============================] - 4s 2ms/step - loss: 0.4341 - categorical_accuracy: 0.3151 - val_loss: 0.2330 - val_categorical_accuracy: 0.2210\n",
      "Epoch 2/10\n",
      "1578/1577 [==============================] - 4s 2ms/step - loss: 0.2170 - categorical_accuracy: 0.3229 - val_loss: 0.2211 - val_categorical_accuracy: 0.2218\n",
      "Epoch 3/10\n",
      "1578/1577 [==============================] - 4s 2ms/step - loss: 0.2125 - categorical_accuracy: 0.3293 - val_loss: 0.2212 - val_categorical_accuracy: 0.2199\n",
      "Epoch 4/10\n",
      "1578/1577 [==============================] - 4s 3ms/step - loss: 0.2110 - categorical_accuracy: 0.3334 - val_loss: 0.2218 - val_categorical_accuracy: 0.2170\n",
      "Epoch 5/10\n",
      "1578/1577 [==============================] - 4s 3ms/step - loss: 0.2097 - categorical_accuracy: 0.3349 - val_loss: 0.2228 - val_categorical_accuracy: 0.2145\n",
      "Epoch 6/10\n",
      "1578/1577 [==============================] - 4s 3ms/step - loss: 0.2087 - categorical_accuracy: 0.3346 - val_loss: 0.2238 - val_categorical_accuracy: 0.2139\n",
      "Epoch 7/10\n",
      "1578/1577 [==============================] - 4s 2ms/step - loss: 0.2079 - categorical_accuracy: 0.3345 - val_loss: 0.2248 - val_categorical_accuracy: 0.2131\n",
      "Epoch 8/10\n",
      "1578/1577 [==============================] - 4s 2ms/step - loss: 0.2072 - categorical_accuracy: 0.3345 - val_loss: 0.2259 - val_categorical_accuracy: 0.2105\n",
      "Epoch 9/10\n",
      "1578/1577 [==============================] - 4s 2ms/step - loss: 0.2066 - categorical_accuracy: 0.3338 - val_loss: 0.2269 - val_categorical_accuracy: 0.2102\n",
      "Epoch 10/10\n",
      "1578/1577 [==============================] - 4s 3ms/step - loss: 0.2062 - categorical_accuracy: 0.3336 - val_loss: 0.2277 - val_categorical_accuracy: 0.2099\n"
     ]
    },
    {
     "name": "stderr",
     "output_type": "stream",
     "text": [
      "/home/nuclearvodka/.local/lib/python3.6/site-packages/sklearn/metrics/classification.py:1143: UndefinedMetricWarning: Precision and F-score are ill-defined and being set to 0.0 in labels with no predicted samples.\n",
      "  'precision', 'predicted', average, warn_for)\n"
     ]
    },
    {
     "name": "stdout",
     "output_type": "stream",
     "text": [
      "Epoch 1/10\n",
      "1577/1576 [==============================] - 4s 2ms/step - loss: 0.4467 - categorical_accuracy: 0.1475 - val_loss: 0.2353 - val_categorical_accuracy: 0.2395\n",
      "Epoch 2/10\n",
      "1577/1576 [==============================] - 4s 2ms/step - loss: 0.2214 - categorical_accuracy: 0.2377 - val_loss: 0.2193 - val_categorical_accuracy: 0.2395\n",
      "Epoch 3/10\n",
      "1577/1576 [==============================] - 4s 2ms/step - loss: 0.2159 - categorical_accuracy: 0.2406 - val_loss: 0.2189 - val_categorical_accuracy: 0.2376\n",
      "Epoch 4/10\n",
      "1577/1576 [==============================] - 4s 2ms/step - loss: 0.2142 - categorical_accuracy: 0.3051 - val_loss: 0.2190 - val_categorical_accuracy: 0.2283\n",
      "Epoch 5/10\n",
      "1577/1576 [==============================] - 4s 2ms/step - loss: 0.2130 - categorical_accuracy: 0.3301 - val_loss: 0.2192 - val_categorical_accuracy: 0.2254\n",
      "Epoch 6/10\n",
      "1577/1576 [==============================] - 4s 2ms/step - loss: 0.2118 - categorical_accuracy: 0.3353 - val_loss: 0.2197 - val_categorical_accuracy: 0.2245\n",
      "Epoch 7/10\n",
      "1577/1576 [==============================] - 4s 2ms/step - loss: 0.2106 - categorical_accuracy: 0.3369 - val_loss: 0.2203 - val_categorical_accuracy: 0.2234\n",
      "Epoch 8/10\n",
      "1577/1576 [==============================] - 4s 2ms/step - loss: 0.2095 - categorical_accuracy: 0.3372 - val_loss: 0.2211 - val_categorical_accuracy: 0.2221\n",
      "Epoch 9/10\n",
      "1577/1576 [==============================] - 4s 2ms/step - loss: 0.2086 - categorical_accuracy: 0.3365 - val_loss: 0.2219 - val_categorical_accuracy: 0.2220\n",
      "Epoch 10/10\n",
      "1577/1576 [==============================] - 4s 2ms/step - loss: 0.2076 - categorical_accuracy: 0.3361 - val_loss: 0.2230 - val_categorical_accuracy: 0.2201\n"
     ]
    },
    {
     "name": "stderr",
     "output_type": "stream",
     "text": [
      "/home/nuclearvodka/.local/lib/python3.6/site-packages/sklearn/metrics/classification.py:1143: UndefinedMetricWarning: Precision and F-score are ill-defined and being set to 0.0 in labels with no predicted samples.\n",
      "  'precision', 'predicted', average, warn_for)\n"
     ]
    },
    {
     "name": "stdout",
     "output_type": "stream",
     "text": [
      "Epoch 1/10\n",
      "1576/1575 [==============================] - 4s 2ms/step - loss: 0.4074 - categorical_accuracy: 0.1699 - val_loss: 0.2297 - val_categorical_accuracy: 0.2371\n",
      "Epoch 2/10\n",
      "1576/1575 [==============================] - 4s 2ms/step - loss: 0.2200 - categorical_accuracy: 0.2378 - val_loss: 0.2205 - val_categorical_accuracy: 0.2370\n",
      "Epoch 3/10\n",
      "1576/1575 [==============================] - 4s 2ms/step - loss: 0.2164 - categorical_accuracy: 0.2378 - val_loss: 0.2199 - val_categorical_accuracy: 0.2368\n",
      "Epoch 4/10\n",
      "1576/1575 [==============================] - 4s 2ms/step - loss: 0.2151 - categorical_accuracy: 0.2378 - val_loss: 0.2198 - val_categorical_accuracy: 0.2369\n",
      "Epoch 5/10\n",
      "1576/1575 [==============================] - 4s 2ms/step - loss: 0.2141 - categorical_accuracy: 0.2378 - val_loss: 0.2198 - val_categorical_accuracy: 0.2370\n",
      "Epoch 6/10\n",
      "1576/1575 [==============================] - 4s 2ms/step - loss: 0.2132 - categorical_accuracy: 0.2431 - val_loss: 0.2199 - val_categorical_accuracy: 0.2337\n",
      "Epoch 7/10\n",
      "1576/1575 [==============================] - 4s 2ms/step - loss: 0.2122 - categorical_accuracy: 0.2885 - val_loss: 0.2202 - val_categorical_accuracy: 0.2272\n",
      "Epoch 8/10\n",
      "1576/1575 [==============================] - 4s 2ms/step - loss: 0.2111 - categorical_accuracy: 0.3098 - val_loss: 0.2205 - val_categorical_accuracy: 0.2237\n",
      "Epoch 9/10\n",
      "1576/1575 [==============================] - 4s 2ms/step - loss: 0.2100 - categorical_accuracy: 0.3212 - val_loss: 0.2211 - val_categorical_accuracy: 0.2196\n",
      "Epoch 10/10\n",
      "1576/1575 [==============================] - 4s 2ms/step - loss: 0.2088 - categorical_accuracy: 0.3265 - val_loss: 0.2217 - val_categorical_accuracy: 0.2168\n"
     ]
    },
    {
     "name": "stderr",
     "output_type": "stream",
     "text": [
      "/home/nuclearvodka/.local/lib/python3.6/site-packages/sklearn/metrics/classification.py:1143: UndefinedMetricWarning: Precision and F-score are ill-defined and being set to 0.0 in labels with no predicted samples.\n",
      "  'precision', 'predicted', average, warn_for)\n"
     ]
    },
    {
     "name": "stdout",
     "output_type": "stream",
     "text": [
      "Epoch 1/10\n",
      "1576/1575 [==============================] - 4s 2ms/step - loss: 0.4509 - categorical_accuracy: 0.0977 - val_loss: 0.2404 - val_categorical_accuracy: 0.2276\n",
      "Epoch 2/10\n",
      "1576/1575 [==============================] - 4s 2ms/step - loss: 0.2214 - categorical_accuracy: 0.2442 - val_loss: 0.2199 - val_categorical_accuracy: 0.2340\n",
      "Epoch 3/10\n",
      "1576/1575 [==============================] - 4s 2ms/step - loss: 0.2150 - categorical_accuracy: 0.2715 - val_loss: 0.2194 - val_categorical_accuracy: 0.2314\n",
      "Epoch 4/10\n",
      "1576/1575 [==============================] - 4s 2ms/step - loss: 0.2136 - categorical_accuracy: 0.3234 - val_loss: 0.2194 - val_categorical_accuracy: 0.2271\n",
      "Epoch 5/10\n",
      "1576/1575 [==============================] - 4s 3ms/step - loss: 0.2124 - categorical_accuracy: 0.3333 - val_loss: 0.2197 - val_categorical_accuracy: 0.2246\n",
      "Epoch 6/10\n",
      "1576/1575 [==============================] - 4s 2ms/step - loss: 0.2113 - categorical_accuracy: 0.3346 - val_loss: 0.2200 - val_categorical_accuracy: 0.2236\n",
      "Epoch 7/10\n",
      "1576/1575 [==============================] - 4s 2ms/step - loss: 0.2102 - categorical_accuracy: 0.3348 - val_loss: 0.2205 - val_categorical_accuracy: 0.2222\n",
      "Epoch 8/10\n",
      "1576/1575 [==============================] - 4s 2ms/step - loss: 0.2090 - categorical_accuracy: 0.3349 - val_loss: 0.2212 - val_categorical_accuracy: 0.2212\n",
      "Epoch 9/10\n",
      "1576/1575 [==============================] - 4s 2ms/step - loss: 0.2079 - categorical_accuracy: 0.3348 - val_loss: 0.2220 - val_categorical_accuracy: 0.2214\n",
      "Epoch 10/10\n",
      "1576/1575 [==============================] - 4s 2ms/step - loss: 0.2069 - categorical_accuracy: 0.3351 - val_loss: 0.2229 - val_categorical_accuracy: 0.2208\n"
     ]
    },
    {
     "name": "stderr",
     "output_type": "stream",
     "text": [
      "/home/nuclearvodka/.local/lib/python3.6/site-packages/sklearn/metrics/classification.py:1143: UndefinedMetricWarning: Precision and F-score are ill-defined and being set to 0.0 in labels with no predicted samples.\n",
      "  'precision', 'predicted', average, warn_for)\n"
     ]
    },
    {
     "name": "stdout",
     "output_type": "stream",
     "text": [
      "Epoch 1/10\n",
      "1577/1576 [==============================] - 4s 2ms/step - loss: 0.3983 - categorical_accuracy: 0.1102 - val_loss: 0.2308 - val_categorical_accuracy: 0.2390\n",
      "Epoch 2/10\n",
      "1577/1576 [==============================] - 4s 2ms/step - loss: 0.2186 - categorical_accuracy: 0.2633 - val_loss: 0.2201 - val_categorical_accuracy: 0.2328\n",
      "Epoch 3/10\n",
      "1577/1576 [==============================] - 4s 2ms/step - loss: 0.2143 - categorical_accuracy: 0.3024 - val_loss: 0.2198 - val_categorical_accuracy: 0.2296\n",
      "Epoch 4/10\n",
      "1577/1576 [==============================] - 4s 2ms/step - loss: 0.2130 - categorical_accuracy: 0.3213 - val_loss: 0.2201 - val_categorical_accuracy: 0.2240\n",
      "Epoch 5/10\n",
      "1577/1576 [==============================] - 4s 2ms/step - loss: 0.2118 - categorical_accuracy: 0.3291 - val_loss: 0.2205 - val_categorical_accuracy: 0.2218\n",
      "Epoch 6/10\n",
      "1577/1576 [==============================] - 4s 2ms/step - loss: 0.2107 - categorical_accuracy: 0.3332 - val_loss: 0.2212 - val_categorical_accuracy: 0.2215\n",
      "Epoch 7/10\n",
      "1577/1576 [==============================] - 4s 2ms/step - loss: 0.2096 - categorical_accuracy: 0.3347 - val_loss: 0.2221 - val_categorical_accuracy: 0.2185\n",
      "Epoch 8/10\n",
      "1577/1576 [==============================] - 4s 2ms/step - loss: 0.2086 - categorical_accuracy: 0.3350 - val_loss: 0.2231 - val_categorical_accuracy: 0.2170\n",
      "Epoch 9/10\n",
      "1577/1576 [==============================] - 4s 2ms/step - loss: 0.2077 - categorical_accuracy: 0.3351 - val_loss: 0.2242 - val_categorical_accuracy: 0.2159\n",
      "Epoch 10/10\n",
      "1577/1576 [==============================] - 4s 2ms/step - loss: 0.2071 - categorical_accuracy: 0.3346 - val_loss: 0.2254 - val_categorical_accuracy: 0.2158\n"
     ]
    },
    {
     "name": "stderr",
     "output_type": "stream",
     "text": [
      "/home/nuclearvodka/.local/lib/python3.6/site-packages/sklearn/metrics/classification.py:1143: UndefinedMetricWarning: Precision and F-score are ill-defined and being set to 0.0 in labels with no predicted samples.\n",
      "  'precision', 'predicted', average, warn_for)\n"
     ]
    },
    {
     "name": "stdout",
     "output_type": "stream",
     "text": [
      "Epoch 1/10\n",
      "1578/1577 [==============================] - 4s 2ms/step - loss: 0.4205 - categorical_accuracy: 0.2208 - val_loss: 0.2300 - val_categorical_accuracy: 0.2360\n",
      "Epoch 2/10\n",
      "1578/1577 [==============================] - 4s 2ms/step - loss: 0.2191 - categorical_accuracy: 0.2378 - val_loss: 0.2196 - val_categorical_accuracy: 0.2361\n",
      "Epoch 3/10\n",
      "1578/1577 [==============================] - 4s 2ms/step - loss: 0.2157 - categorical_accuracy: 0.2378 - val_loss: 0.2192 - val_categorical_accuracy: 0.2360\n",
      "Epoch 4/10\n",
      "1578/1577 [==============================] - 4s 2ms/step - loss: 0.2147 - categorical_accuracy: 0.2392 - val_loss: 0.2192 - val_categorical_accuracy: 0.2355\n",
      "Epoch 5/10\n",
      "1578/1577 [==============================] - 4s 2ms/step - loss: 0.2137 - categorical_accuracy: 0.2888 - val_loss: 0.2193 - val_categorical_accuracy: 0.2280\n",
      "Epoch 6/10\n",
      "1578/1577 [==============================] - 4s 3ms/step - loss: 0.2126 - categorical_accuracy: 0.3279 - val_loss: 0.2195 - val_categorical_accuracy: 0.2237\n",
      "Epoch 7/10\n",
      "1578/1577 [==============================] - 4s 3ms/step - loss: 0.2115 - categorical_accuracy: 0.3342 - val_loss: 0.2198 - val_categorical_accuracy: 0.2227\n",
      "Epoch 8/10\n",
      "1578/1577 [==============================] - 4s 2ms/step - loss: 0.2103 - categorical_accuracy: 0.3365 - val_loss: 0.2203 - val_categorical_accuracy: 0.2190\n",
      "Epoch 9/10\n",
      "1578/1577 [==============================] - 4s 2ms/step - loss: 0.2090 - categorical_accuracy: 0.3368 - val_loss: 0.2209 - val_categorical_accuracy: 0.2169\n",
      "Epoch 10/10\n",
      "1578/1577 [==============================] - 4s 2ms/step - loss: 0.2078 - categorical_accuracy: 0.3367 - val_loss: 0.2218 - val_categorical_accuracy: 0.2148\n"
     ]
    },
    {
     "name": "stderr",
     "output_type": "stream",
     "text": [
      "/home/nuclearvodka/.local/lib/python3.6/site-packages/sklearn/metrics/classification.py:1143: UndefinedMetricWarning: Precision and F-score are ill-defined and being set to 0.0 in labels with no predicted samples.\n",
      "  'precision', 'predicted', average, warn_for)\n"
     ]
    },
    {
     "name": "stdout",
     "output_type": "stream",
     "text": [
      "Epoch 1/10\n",
      "1579/1578 [==============================] - 4s 2ms/step - loss: 0.4484 - categorical_accuracy: 0.2300 - val_loss: 0.2341 - val_categorical_accuracy: 0.2386\n",
      "Epoch 2/10\n",
      "1579/1578 [==============================] - 4s 2ms/step - loss: 0.2198 - categorical_accuracy: 0.2379 - val_loss: 0.2199 - val_categorical_accuracy: 0.2385\n",
      "Epoch 3/10\n",
      "1579/1578 [==============================] - 4s 2ms/step - loss: 0.2154 - categorical_accuracy: 0.2501 - val_loss: 0.2196 - val_categorical_accuracy: 0.2360\n",
      "Epoch 4/10\n",
      "1579/1578 [==============================] - 4s 3ms/step - loss: 0.2144 - categorical_accuracy: 0.3140 - val_loss: 0.2196 - val_categorical_accuracy: 0.2324\n",
      "Epoch 5/10\n",
      "1579/1578 [==============================] - 4s 2ms/step - loss: 0.2136 - categorical_accuracy: 0.3328 - val_loss: 0.2198 - val_categorical_accuracy: 0.2290\n",
      "Epoch 6/10\n",
      "1579/1578 [==============================] - 4s 2ms/step - loss: 0.2128 - categorical_accuracy: 0.3355 - val_loss: 0.2201 - val_categorical_accuracy: 0.2264\n",
      "Epoch 7/10\n",
      "1579/1578 [==============================] - 4s 3ms/step - loss: 0.2119 - categorical_accuracy: 0.3355 - val_loss: 0.2205 - val_categorical_accuracy: 0.2261\n",
      "Epoch 8/10\n",
      "1579/1578 [==============================] - 3s 2ms/step - loss: 0.2111 - categorical_accuracy: 0.3356 - val_loss: 0.2211 - val_categorical_accuracy: 0.2244\n",
      "Epoch 9/10\n",
      "1579/1578 [==============================] - 4s 2ms/step - loss: 0.2102 - categorical_accuracy: 0.3356 - val_loss: 0.2218 - val_categorical_accuracy: 0.2230\n",
      "Epoch 10/10\n",
      "1579/1578 [==============================] - 4s 2ms/step - loss: 0.2094 - categorical_accuracy: 0.3353 - val_loss: 0.2226 - val_categorical_accuracy: 0.2217\n"
     ]
    },
    {
     "name": "stderr",
     "output_type": "stream",
     "text": [
      "/home/nuclearvodka/.local/lib/python3.6/site-packages/sklearn/metrics/classification.py:1143: UndefinedMetricWarning: Precision and F-score are ill-defined and being set to 0.0 in labels with no predicted samples.\n",
      "  'precision', 'predicted', average, warn_for)\n"
     ]
    },
    {
     "name": "stdout",
     "output_type": "stream",
     "text": [
      "Epoch 1/10\n",
      "1578/1577 [==============================] - 4s 3ms/step - loss: 0.4592 - categorical_accuracy: 0.1131 - val_loss: 0.2443 - val_categorical_accuracy: 0.2381\n",
      "Epoch 2/10\n",
      "1578/1577 [==============================] - 4s 2ms/step - loss: 0.2223 - categorical_accuracy: 0.2434 - val_loss: 0.2204 - val_categorical_accuracy: 0.2345\n",
      "Epoch 3/10\n",
      "1578/1577 [==============================] - 4s 2ms/step - loss: 0.2148 - categorical_accuracy: 0.3314 - val_loss: 0.2197 - val_categorical_accuracy: 0.2248\n",
      "Epoch 4/10\n",
      "1578/1577 [==============================] - 4s 2ms/step - loss: 0.2129 - categorical_accuracy: 0.3361 - val_loss: 0.2199 - val_categorical_accuracy: 0.2211\n",
      "Epoch 5/10\n",
      "1578/1577 [==============================] - 4s 2ms/step - loss: 0.2116 - categorical_accuracy: 0.3368 - val_loss: 0.2203 - val_categorical_accuracy: 0.2181\n",
      "Epoch 6/10\n",
      "1578/1577 [==============================] - 4s 2ms/step - loss: 0.2103 - categorical_accuracy: 0.3370 - val_loss: 0.2210 - val_categorical_accuracy: 0.2173\n",
      "Epoch 7/10\n",
      "1578/1577 [==============================] - 4s 2ms/step - loss: 0.2092 - categorical_accuracy: 0.3367 - val_loss: 0.2219 - val_categorical_accuracy: 0.2167\n",
      "Epoch 8/10\n",
      "1578/1577 [==============================] - 4s 2ms/step - loss: 0.2082 - categorical_accuracy: 0.3365 - val_loss: 0.2229 - val_categorical_accuracy: 0.2160\n",
      "Epoch 9/10\n",
      "1578/1577 [==============================] - 4s 2ms/step - loss: 0.2074 - categorical_accuracy: 0.3357 - val_loss: 0.2239 - val_categorical_accuracy: 0.2154\n",
      "Epoch 10/10\n",
      "1578/1577 [==============================] - 4s 3ms/step - loss: 0.2067 - categorical_accuracy: 0.3355 - val_loss: 0.2249 - val_categorical_accuracy: 0.2143\n"
     ]
    },
    {
     "name": "stderr",
     "output_type": "stream",
     "text": [
      "/home/nuclearvodka/.local/lib/python3.6/site-packages/sklearn/metrics/classification.py:1143: UndefinedMetricWarning: Precision and F-score are ill-defined and being set to 0.0 in labels with no predicted samples.\n",
      "  'precision', 'predicted', average, warn_for)\n"
     ]
    },
    {
     "name": "stdout",
     "output_type": "stream",
     "text": [
      "Epoch 1/10\n",
      "1575/1574 [==============================] - 5s 3ms/step - loss: 0.4466 - categorical_accuracy: 0.0730 - val_loss: 0.2443 - val_categorical_accuracy: 0.2385\n",
      "Epoch 2/10\n",
      "1575/1574 [==============================] - 4s 3ms/step - loss: 0.2234 - categorical_accuracy: 0.2383 - val_loss: 0.2208 - val_categorical_accuracy: 0.2385\n",
      "Epoch 3/10\n",
      "1575/1574 [==============================] - 4s 2ms/step - loss: 0.2165 - categorical_accuracy: 0.2382 - val_loss: 0.2199 - val_categorical_accuracy: 0.2386\n",
      "Epoch 4/10\n",
      "1575/1574 [==============================] - 4s 2ms/step - loss: 0.2153 - categorical_accuracy: 0.2383 - val_loss: 0.2199 - val_categorical_accuracy: 0.2385\n",
      "Epoch 5/10\n",
      "1575/1574 [==============================] - 4s 2ms/step - loss: 0.2142 - categorical_accuracy: 0.2452 - val_loss: 0.2199 - val_categorical_accuracy: 0.2324\n",
      "Epoch 6/10\n",
      "1575/1574 [==============================] - 4s 2ms/step - loss: 0.2132 - categorical_accuracy: 0.2924 - val_loss: 0.2202 - val_categorical_accuracy: 0.2220\n",
      "Epoch 7/10\n",
      "1575/1574 [==============================] - 4s 2ms/step - loss: 0.2121 - categorical_accuracy: 0.3205 - val_loss: 0.2205 - val_categorical_accuracy: 0.2171\n",
      "Epoch 8/10\n",
      "1575/1574 [==============================] - 4s 2ms/step - loss: 0.2110 - categorical_accuracy: 0.3288 - val_loss: 0.2211 - val_categorical_accuracy: 0.2138\n",
      "Epoch 9/10\n",
      "1575/1574 [==============================] - 4s 2ms/step - loss: 0.2100 - categorical_accuracy: 0.3317 - val_loss: 0.2218 - val_categorical_accuracy: 0.2104\n",
      "Epoch 10/10\n",
      "1575/1574 [==============================] - 4s 2ms/step - loss: 0.2090 - categorical_accuracy: 0.3327 - val_loss: 0.2227 - val_categorical_accuracy: 0.2096\n"
     ]
    },
    {
     "name": "stderr",
     "output_type": "stream",
     "text": [
      "/home/nuclearvodka/.local/lib/python3.6/site-packages/sklearn/metrics/classification.py:1143: UndefinedMetricWarning: Precision and F-score are ill-defined and being set to 0.0 in labels with no predicted samples.\n",
      "  'precision', 'predicted', average, warn_for)\n"
     ]
    },
    {
     "name": "stdout",
     "output_type": "stream",
     "text": [
      "Epoch 1/10\n",
      "1576/1575 [==============================] - 4s 3ms/step - loss: 0.4626 - categorical_accuracy: 0.2334 - val_loss: 0.2450 - val_categorical_accuracy: 0.2363\n",
      "Epoch 2/10\n",
      "1576/1575 [==============================] - 4s 3ms/step - loss: 0.2224 - categorical_accuracy: 0.2378 - val_loss: 0.2211 - val_categorical_accuracy: 0.2363\n",
      "Epoch 3/10\n",
      "1576/1575 [==============================] - 4s 3ms/step - loss: 0.2152 - categorical_accuracy: 0.2785 - val_loss: 0.2203 - val_categorical_accuracy: 0.2312\n",
      "Epoch 4/10\n",
      "1576/1575 [==============================] - 4s 2ms/step - loss: 0.2135 - categorical_accuracy: 0.3291 - val_loss: 0.2204 - val_categorical_accuracy: 0.2277\n",
      "Epoch 5/10\n",
      "1576/1575 [==============================] - 4s 2ms/step - loss: 0.2123 - categorical_accuracy: 0.3326 - val_loss: 0.2208 - val_categorical_accuracy: 0.2261\n",
      "Epoch 6/10\n",
      "1576/1575 [==============================] - 4s 2ms/step - loss: 0.2112 - categorical_accuracy: 0.3327 - val_loss: 0.2214 - val_categorical_accuracy: 0.2243\n",
      "Epoch 7/10\n",
      "1576/1575 [==============================] - 4s 2ms/step - loss: 0.2102 - categorical_accuracy: 0.3335 - val_loss: 0.2220 - val_categorical_accuracy: 0.2241\n",
      "Epoch 8/10\n",
      "1576/1575 [==============================] - 4s 2ms/step - loss: 0.2091 - categorical_accuracy: 0.3334 - val_loss: 0.2229 - val_categorical_accuracy: 0.2234\n",
      "Epoch 9/10\n",
      "1576/1575 [==============================] - 4s 2ms/step - loss: 0.2082 - categorical_accuracy: 0.3337 - val_loss: 0.2238 - val_categorical_accuracy: 0.2224\n",
      "Epoch 10/10\n",
      "1576/1575 [==============================] - 4s 2ms/step - loss: 0.2075 - categorical_accuracy: 0.3333 - val_loss: 0.2247 - val_categorical_accuracy: 0.2224\n"
     ]
    },
    {
     "name": "stderr",
     "output_type": "stream",
     "text": [
      "/home/nuclearvodka/.local/lib/python3.6/site-packages/sklearn/metrics/classification.py:1143: UndefinedMetricWarning: Precision and F-score are ill-defined and being set to 0.0 in labels with no predicted samples.\n",
      "  'precision', 'predicted', average, warn_for)\n"
     ]
    }
   ],
   "source": [
    "from keras.models import Sequential\n",
    "from keras.layers import Dense\n",
    "from sklearn.preprocessing import MultiLabelBinarizer\n",
    "from sklearn.metrics import classification_report\n",
    "from keras import backend as K\n",
    "\n",
    "\n",
    "for number in range(0,10):\n",
    "    train_path_geo =  \"Geometric/Training_data_\"+str(number)+\".csv\"\n",
    "    test_path_geo =  \"Geometric/Testing_data_\"+str(number)+\".csv\"\n",
    "    valid_path_geo =  \"Geometric/Validation_data_\"+str(number)+\".csv\"\n",
    "\n",
    "    #Read the list \n",
    "    with open(train_path_geo, 'r') as f1:\n",
    "        reader = csv.reader(f1)\n",
    "        your_list = list(reader)\n",
    "    f1.close()\n",
    "\n",
    "    #Read the list \n",
    "    with open(test_path_geo, 'r') as f1:\n",
    "        reader = csv.reader(f1)\n",
    "        your_list_test = list(reader)\n",
    "    f1.close()\n",
    "\n",
    "    #Read the list \n",
    "    with open(valid_path_geo, 'r') as f1:\n",
    "        reader = csv.reader(f1)\n",
    "        your_list_valid = list(reader)\n",
    "    f1.close()\n",
    "\n",
    "    Y_Train = []\n",
    "    X_Train = []\n",
    "    for i in range(len(your_list)):\n",
    "        y1 = ast.literal_eval(your_list[i][0])\n",
    "        y1 = [n.strip() for n in y1]\n",
    "        Y_Train.append(y1)\n",
    "\n",
    "        x1 = [float(your_list[i][1]),float(your_list[i][2]),float(your_list[i][3]),float(your_list[i][4]),float(your_list[i][5])]\n",
    "        X_Train.append(x1)\n",
    "\n",
    "    Y_Test = []\n",
    "    X_Test = []\n",
    "    for i in range(len(your_list_test)):\n",
    "        y1 = ast.literal_eval(your_list_test[i][0])\n",
    "        y1 = [n.strip() for n in y1]\n",
    "        Y_Test.append(y1)\n",
    "\n",
    "        x1 = [float(your_list_test[i][1]),float(your_list_test[i][2]),float(your_list_test[i][3]),float(your_list_test[i][4]),float(your_list_test[i][5])]\n",
    "        X_Test.append(x1)\n",
    "\n",
    "    Y_Valid = []\n",
    "    X_Valid = []\n",
    "    for i in range(len(your_list_valid)):\n",
    "        y1 = ast.literal_eval(your_list[i][0])\n",
    "        y1 = [n.strip() for n in y1]\n",
    "        Y_Valid.append(y1)\n",
    "\n",
    "        x1 = [float(your_list_valid[i][1]),float(your_list_valid[i][2]),float(your_list_valid[i][3]),float(your_list_valid[i][4]),float(your_list_valid[i][5])]\n",
    "        X_Valid.append(x1)\n",
    "    \n",
    "    min_max_scaler = preprocessing.MinMaxScaler()\n",
    "    X_Train = min_max_scaler.fit_transform(X_Train)\n",
    "    X_Valid = min_max_scaler.fit_transform(X_Valid)\n",
    "    X_Test = min_max_scaler.fit_transform(X_Test)\n",
    "\n",
    "    mlb = MultiLabelBinarizer()\n",
    "    mlb.fit_transform(Y_Train)\n",
    "    mlb.fit_transform(Y_Valid)\n",
    "\n",
    "    model = Sequential([\n",
    "        Dense(32, activation='relu', input_shape=(5,)),\n",
    "        Dense(32, activation='relu'),\n",
    "        Dense(16, activation='sigmoid'),\n",
    "    ])\n",
    "\n",
    "    trainGen = csv_generator(X_Train,Y_Train,32,mlb,\"train\")\n",
    "    valGen = csv_generator(X_Valid,Y_Valid,32,mlb,\"train\")\n",
    "\n",
    "    model.compile(optimizer='sgd',\n",
    "                  loss='binary_crossentropy',\n",
    "                  metrics=['categorical_accuracy'])\n",
    "\n",
    "    hist = model.fit_generator(trainGen, steps_per_epoch = (len(X_Train)/32)-1,validation_data=valGen, validation_steps=(len(X_Valid)/32)-1,epochs=10)\n",
    "    model_name = \"GeometricModels/\"+str(number)+\"_.h5\"\n",
    "    model.save(model_name)\n",
    "    testLabels = []\n",
    "    num_test = 0\n",
    "    for i in range(len(your_list_test)):\n",
    "        y1 = ast.literal_eval(your_list_test[i][0])\n",
    "        y1 = [n.strip() for n in y1]\n",
    "        testLabels.append(y1)\n",
    "        num_test += 1\n",
    "    #try:    \n",
    "    testLabels = mlb.fit_transform(testLabels)\n",
    "    #print(num_test)\n",
    "    testGen = csv_generator(X_Test,Y_Test,32,mlb,\"eval\")\n",
    "    #model.evaluate_generator(testGen,steps = (len(X_Test)/32)-1,verbose = 0)\n",
    "    predIdxs = model.predict_generator(testGen,\n",
    "            steps=num_test/32)\n",
    "    predIdxs = np.argmax(predIdxs, axis=1)\n",
    "\n",
    "    report = classification_report(testLabels.argmax(axis=1), predIdxs, target_names=mlb.classes_)\n",
    "    report_name = \"Gemetric_\"+str(number)\n",
    "    write_name = \"GeometricReports/\"+report_name+\"_report.csv\"\n",
    "    lines = report.split('\\n')\n",
    "    with open(write_name,\"a\",newline=\"\") as f7: \n",
    "        for line in lines:\n",
    "            f7.write(line)\n",
    "            f7.write('\\n')\n",
    "    f7.close()\n",
    "    #except:\n",
    "    #print(\"Failing\")\n",
    "    #p#ass\n",
    "    K.clear_session()"
   ]
  },
  {
   "cell_type": "code",
   "execution_count": 87,
   "metadata": {},
   "outputs": [
    {
     "name": "stdout",
     "output_type": "stream",
     "text": [
      "16813\n",
      "              precision    recall  f1-score   support\n",
      "\n",
      "       above       0.00      0.00      0.00      1735\n",
      "          at       0.00      0.00      0.00       521\n",
      "      behind       0.00      0.00      0.00      1480\n",
      "       below       0.00      0.00      0.00       550\n",
      "      beside       0.00      0.00      0.00       469\n",
      "          by       0.00      0.00      0.00       249\n",
      "       front       0.00      0.00      0.00      1028\n",
      "          in       0.28      0.67      0.40      3026\n",
      "        left       0.00      0.00      0.00       267\n",
      "        near       0.00      0.00      0.00       735\n",
      "        next       0.00      0.00      0.00      1275\n",
      "          on       0.38      0.91      0.53      3999\n",
      "        over       0.00      0.00      0.00       297\n",
      "       right       0.00      0.00      0.00       188\n",
      "         top       0.00      0.00      0.00       108\n",
      "       under       0.00      0.00      0.00       886\n",
      "\n",
      "   micro avg       0.34      0.34      0.34     16813\n",
      "   macro avg       0.04      0.10      0.06     16813\n",
      "weighted avg       0.14      0.34      0.20     16813\n",
      "\n"
     ]
    },
    {
     "name": "stderr",
     "output_type": "stream",
     "text": [
      "/home/nuclearvodka/.local/lib/python3.6/site-packages/sklearn/metrics/classification.py:1143: UndefinedMetricWarning: Precision and F-score are ill-defined and being set to 0.0 in labels with no predicted samples.\n",
      "  'precision', 'predicted', average, warn_for)\n"
     ]
    }
   ],
   "source": [
    "from sklearn.metrics import classification_report\n",
    "\n",
    "testLabels = []\n",
    "num_test = 0\n",
    "for i in range(len(your_list_test)):\n",
    "    y1 = ast.literal_eval(your_list_test[i][0])\n",
    "    y1 = [n.strip() for n in y1]\n",
    "    testLabels.append(y1)\n",
    "    num_test += 1\n",
    "try:    \n",
    "    testLabels = mlb.fit_transform(testLabels)\n",
    "    print(num_test)\n",
    "    testGen = csv_generator(X_Test,Y_Test,32,mlb)\n",
    "    #model.evaluate_generator(testGen,steps = (len(X_Test)/32)-1,verbose = 0)\n",
    "    predIdxs = model.predict_generator(testGen,\n",
    "            steps=num_test/32)\n",
    "    predIdxs = np.argmax(predIdxs, axis=1)\n",
    "\n",
    "    report = classification_report(testLabels.argmax(axis=1), predIdxs, target_names=mlb.classes_)\n",
    "    write_name = \"GeometricReports/\"+report_name+\"_report.csv\"\n",
    "    lines = report.split('\\n')\n",
    "    with open(write_name,\"a\",newline=\"\") as f7: \n",
    "        for line in lines:\n",
    "            f7.write(line)\n",
    "            f7.write('\\n')\n",
    "    f7.close()\n",
    "except:\n",
    "    print(\"Failing\")\n",
    "    pass"
   ]
  },
  {
   "cell_type": "code",
   "execution_count": 90,
   "metadata": {},
   "outputs": [],
   "source": [
    "from keras import backend as K\n",
    "\n",
    "K.clear_session()"
   ]
  },
  {
   "cell_type": "code",
   "execution_count": null,
   "metadata": {},
   "outputs": [],
   "source": []
  }
 ],
 "metadata": {
  "kernelspec": {
   "display_name": "Python 3",
   "language": "python",
   "name": "python3"
  },
  "language_info": {
   "codemirror_mode": {
    "name": "ipython",
    "version": 3
   },
   "file_extension": ".py",
   "mimetype": "text/x-python",
   "name": "python",
   "nbconvert_exporter": "python",
   "pygments_lexer": "ipython3",
   "version": "3.6.7"
  }
 },
 "nbformat": 4,
 "nbformat_minor": 2
}
