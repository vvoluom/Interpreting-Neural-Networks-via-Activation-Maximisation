{
 "cells": [
  {
   "cell_type": "code",
   "execution_count": 1,
   "metadata": {},
   "outputs": [
    {
     "name": "stderr",
     "output_type": "stream",
     "text": [
      "Using TensorFlow backend.\n"
     ]
    }
   ],
   "source": [
    "import json\n",
    "from pprint import pprint\n",
    "import h5py\n",
    "import scipy.io\n",
    "import numpy as np\n",
    "from keras.models import Sequential\n",
    "from keras.layers.core import Dense, Dropout, Activation\n",
    "from keras.optimizers import SGD\n",
    "from keras.utils import np_utils\n",
    "import os\n",
    "import matplotlib.pyplot as plt\n",
    "import matplotlib.patches as patches\n",
    "import cv2"
   ]
  },
  {
   "cell_type": "code",
   "execution_count": 2,
   "metadata": {},
   "outputs": [
    {
     "data": {
      "text/plain": [
       "{'y': 148.0, 'x': 0.0, 'w': 286.0, 'h': 282.0}"
      ]
     },
     "execution_count": 2,
     "metadata": {},
     "output_type": "execute_result"
    }
   ],
   "source": [
    "with open('sg_dataset/sg_test_annotations.json') as f:\n",
    "    data = json.load(f)\n",
    "#Extracting the required data\n",
    "data[4].get('objects','')[0].get('bbox','')"
   ]
  },
  {
   "cell_type": "code",
   "execution_count": 3,
   "metadata": {},
   "outputs": [
    {
     "data": {
      "text/plain": [
       "'3845770407_1a8cd41230_b.jpg'"
      ]
     },
     "execution_count": 3,
     "metadata": {},
     "output_type": "execute_result"
    }
   ],
   "source": [
    "data[0].get('filename','')"
   ]
  },
  {
   "cell_type": "code",
   "execution_count": 4,
   "metadata": {},
   "outputs": [],
   "source": [
    "def get_image(data_in):\n",
    "    img = data[data_in].get('filename','')\n",
    "    DATADIR = \"sg_dataset\"\n",
    "    CATEGORIES = [\"sg_test_images\"]\n",
    "    \n",
    "    for category in CATEGORIES:\n",
    "        path = os.path.join(DATADIR,category)\n",
    "        img_array = cv2.imread(os.path.join(path,img))\n",
    "        break\n",
    "    return img_array"
   ]
  },
  {
   "cell_type": "code",
   "execution_count": 11,
   "metadata": {
    "scrolled": true
   },
   "outputs": [],
   "source": [
    "def get_object(data_in,rel_in):\n",
    "    ob1 = data[data_in].get('relationships',)[rel_in].get('objects','')[0]\n",
    "    ob2 = data[data_in].get('relationships',)[rel_in].get('objects','')[1]\n",
    "    return ob1,ob2"
   ]
  },
  {
   "cell_type": "code",
   "execution_count": 12,
   "metadata": {},
   "outputs": [],
   "source": [
    "#bb1 = data[4].get('objects','')[0].get('bbox','')\n",
    "#bb2 = data[4].get('objects','')[3].get('bbox','').get('y','')\n",
    "def get_coordinate(data_in,ob1,ob2):\n",
    "    y1 = data[data_in].get('objects','')[ob1].get('bbox','').get('y','')\n",
    "    x1 = data[data_in].get('objects','')[ob1].get('bbox','').get('x','')\n",
    "    w1 = data[data_in].get('objects','')[ob1].get('bbox','').get('w','')\n",
    "    h1 = data[data_in].get('objects','')[ob1].get('bbox','').get('h','')\n",
    "\n",
    "    y2 = data[data_in].get('objects','')[ob2].get('bbox','').get('y','')\n",
    "    x2 = data[data_in].get('objects','')[ob2].get('bbox','').get('x','')\n",
    "    w2 = data[data_in].get('objects','')[ob2].get('bbox','').get('w','')\n",
    "    h2 = data[data_in].get('objects','')[ob2].get('bbox','').get('h','')\n",
    "    return x1,y1,w1,h1,x2,y2,w2,h2"
   ]
  },
  {
   "cell_type": "code",
   "execution_count": 14,
   "metadata": {},
   "outputs": [],
   "source": [
    "#import matplotlib.pyplot as plt\n",
    "#import matplotlib.patches as patches\n",
    "\n",
    "# Create figure and axes\n",
    "#fig,ax = plt.subplots(1)\n",
    "# Display the image\n",
    "#ax.imshow(img_array)\n",
    "\n",
    "#Rect = []\n",
    "#Rect.append(patches.Rectangle((x1,y1),w1,h1,linewidth=1,edgecolor='r',facecolor='none'))\n",
    "#Rect.append(patches.Rectangle((x2,y2),w2,h2,linewidth=1,edgecolor='r',facecolor='none'))\n",
    "#for i in range(len(Rect)):\n",
    "#ax.add_patch(Rect[0])\n",
    "#ax.add_patch(Rect[1])\n",
    "#plt.show()"
   ]
  },
  {
   "cell_type": "code",
   "execution_count": 15,
   "metadata": {},
   "outputs": [],
   "source": [
    "def UnionBox(x1,x2,y1,y2,h1,h2,w1,w2):\n",
    "    ub_x = 0\n",
    "    ub_y = 0\n",
    "    ub_w = 0\n",
    "    ub_h = 0\n",
    "\n",
    "    if x1 > x2:\n",
    "        ub_x = x2\n",
    "    else:\n",
    "        ub_x = x1\n",
    "\n",
    "    if y1 > y2:\n",
    "        ub_y = y2\n",
    "    else:\n",
    "        ub_y = y1\n",
    "\n",
    "    if x1+w1 > x2+w2:\n",
    "        ub_w = x1+w1-ub_x\n",
    "    else:\n",
    "        ub_w = x2+w2-ub_x\n",
    "\n",
    "    if y1+h1 > y2+h2:\n",
    "        ub_h = y1+h1-ub_y\n",
    "    else:\n",
    "        ub_h = y2+h2-ub_y\n",
    "        \n",
    "    return ub_x,ub_y,ub_w,ub_h\n",
    "\n",
    "#ub_x,ub_y,ub_w,ub_h = UnionBox(x1,x2,y1,y2,h1,h2,w1,w2)\n",
    "# Create figure and axes\n",
    "#fig,ax = plt.subplots(1)\n",
    "# Display the image\n",
    "#ax.imshow(img_array)\n",
    "#Rect.append(patches.Rectangle((ub_x,ub_y),ub_w,ub_h,linewidth=1,edgecolor='g',facecolor='none'))\n",
    "\n",
    "#for i in range(len(Rect)):\n",
    "#    ax.add_patch(Rect[i])\n",
    "    \n",
    "#plt.show()"
   ]
  },
  {
   "cell_type": "code",
   "execution_count": 16,
   "metadata": {},
   "outputs": [],
   "source": [
    "def crop_image(img_arr,ub_y,ub_x,ub_w,ub_h):\n",
    "    #crop the image with the union box and return it\n",
    "    crop_img = img_arr[int(ub_y):int(ub_y+ub_h), int(ub_x):int(ub_x+ub_w)].copy()\n",
    "    return crop_img"
   ]
  },
  {
   "cell_type": "code",
   "execution_count": 17,
   "metadata": {},
   "outputs": [],
   "source": [
    "def write_to_file(data_in,rel_in,crop_img):\n",
    "    \n",
    "    ob1_name = data[data_in].get('relationships',)[rel_in].get('text','')[0]\n",
    "    rel = data[data_in].get('relationships',)[rel_in].get('text','')[1]\n",
    "    ob2_name = data[data_in].get('relationships',)[rel_in].get('text','')[2]\n",
    "    \n",
    "    #ob1_name = data[4].get('relationships',)[4].get('text','')[0]\n",
    "    #rel = data[4].get('relationships',)[4].get('text','')[1]\n",
    "    #ob2_name = data[4].get('relationships',)[4].get('text','')[2]\n",
    "    image_name = data[data_in].get('filename',)[:-4]+\"_\"+ob1_name+\"_\"+rel+\"_\"+ob2_name+\"0\"+\".jpg\"\n",
    "    name = ob1_name+\"_\"+rel+\"_\"+ob2_name\n",
    "    dirName = \"new_data/test/\"+name\n",
    "    \n",
    "    try:\n",
    "        # Create target Directory\n",
    "        os.mkdir(dirName)\n",
    "        #print(\"Directory \" , dirName ,  \" Created \") \n",
    "    except FileExistsError:\n",
    "            pass\n",
    "        \n",
    "    filename = dirName+\"/\"+image_name\n",
    "    exists = False\n",
    "    i = int(filename[len(filename)-5:-4])\n",
    "    while exists != True:\n",
    "        if (os.path.isfile(filename) != True):\n",
    "            cv2.imwrite(filename,crop_img)\n",
    "            exists = True\n",
    "        else:\n",
    "            i += 1\n",
    "            filename = filename[:-5]+str(i)+\".jpg\""
   ]
  },
  {
   "cell_type": "code",
   "execution_count": 18,
   "metadata": {},
   "outputs": [],
   "source": [
    "#write_to_file(4,4,crop_img)"
   ]
  },
  {
   "cell_type": "code",
   "execution_count": 20,
   "metadata": {},
   "outputs": [],
   "source": [
    "for i in range(len(data)):\n",
    "    img_array = get_image(i)\n",
    "    for j in range(len(data[i].get('relationships',))):\n",
    "        obj1 , obj2 = get_object(i,j)\n",
    "        x1,y1,w1,h1,x2,y2,w2,h2 = get_coordinate(i,obj1,obj2)\n",
    "        ub_x,ub_y,ub_w,ub_h = UnionBox(x1,x2,y1,y2,h1,h2,w1,w2)\n",
    "        crop_img = crop_image(img_array,ub_y,ub_x,ub_w,ub_h)\n",
    "        write_to_file(i,j,crop_img)"
   ]
  },
  {
   "cell_type": "code",
   "execution_count": null,
   "metadata": {},
   "outputs": [],
   "source": []
  },
  {
   "cell_type": "code",
   "execution_count": null,
   "metadata": {},
   "outputs": [],
   "source": []
  }
 ],
 "metadata": {
  "kernelspec": {
   "display_name": "Python 3",
   "language": "python",
   "name": "python3"
  },
  "language_info": {
   "codemirror_mode": {
    "name": "ipython",
    "version": 3
   },
   "file_extension": ".py",
   "mimetype": "text/x-python",
   "name": "python",
   "nbconvert_exporter": "python",
   "pygments_lexer": "ipython3",
   "version": "3.6.7"
  }
 },
 "nbformat": 4,
 "nbformat_minor": 2
}
